{
 "cells": [
  {
   "cell_type": "code",
   "execution_count": 2,
   "metadata": {
    "collapsed": false
   },
   "outputs": [],
   "source": [
    "from feature_eng import *\n",
    "from sandy_eng import *\n",
    "from sklearn.externals import joblib\n",
    "import pdb\n",
    "# usage: joblib.dump(rf, 'file') | joblib.load('file')\n",
    "%matplotlib inline"
   ]
  },
  {
   "cell_type": "code",
   "execution_count": 3,
   "metadata": {
    "collapsed": false
   },
   "outputs": [],
   "source": [
    "labels=load_training_labels()\n",
    "data=pd.read_pickle('data_preprocessed1')\n",
    "X=data.as_matrix()\n",
    "\n",
    "#y=label_binarize(labels['status_group'], classes=['functional','non functional','functional needs repair'])\n",
    "#n_classes=y.shape[1]\n",
    "y=labels[\"status_group\"]\n",
    "X_train, X_test, y_train, y_test = train_test_split(X, y, test_size=.5, random_state=0)"
   ]
  },
  {
   "cell_type": "code",
   "execution_count": 4,
   "metadata": {
    "collapsed": false
   },
   "outputs": [
    {
     "data": {
      "text/plain": [
       "array(['functional', 'non functional', 'functional needs repair'], dtype=object)"
      ]
     },
     "execution_count": 4,
     "metadata": {},
     "output_type": "execute_result"
    }
   ],
   "source": [
    "y.unique()"
   ]
  },
  {
   "cell_type": "code",
   "execution_count": 5,
   "metadata": {
    "collapsed": true
   },
   "outputs": [],
   "source": [
    "#Load\n",
    "rf32=joblib.load('rf32')"
   ]
  },
  {
   "cell_type": "markdown",
   "metadata": {},
   "source": [
    "#### Train"
   ]
  },
  {
   "cell_type": "code",
   "execution_count": 8,
   "metadata": {
    "collapsed": false,
    "scrolled": false
   },
   "outputs": [
    {
     "name": "stdout",
     "output_type": "stream",
     "text": [
      "RF oob_score = 0.802996632996633\n",
      "CPU times: user 6min 27s, sys: 5.89 s, total: 6min 33s\n",
      "Wall time: 2min 3s\n"
     ]
    }
   ],
   "source": [
    "%%time\n",
    "rf32 = RandomForestClassifier(criterion='gini',\n",
    "                                min_samples_split=6,\n",
    "                                n_estimators=1000,\n",
    "                                max_features='auto',\n",
    "                                oob_score=True,\n",
    "                                random_state=1,\n",
    "                                n_jobs=-1)\n",
    "                            \n",
    "rf32.fit(X_train, y_train.values.ravel())\n",
    "print(\"RF oob_score = {}\".format(rf32.oob_score_))"
   ]
  },
  {
   "cell_type": "code",
   "execution_count": 9,
   "metadata": {
    "collapsed": false
   },
   "outputs": [
    {
     "data": {
      "text/plain": [
       "['rf32']"
      ]
     },
     "execution_count": 9,
     "metadata": {},
     "output_type": "execute_result"
    }
   ],
   "source": [
    "joblib.dump(rf32, 'rf32')"
   ]
  },
  {
   "cell_type": "markdown",
   "metadata": {},
   "source": [
    "#### Results"
   ]
  },
  {
   "cell_type": "code",
   "execution_count": null,
   "metadata": {
    "collapsed": false,
    "scrolled": true
   },
   "outputs": [
    {
     "name": "stdout",
     "output_type": "stream",
     "text": [
      "> /home/spencer/School/pump-it-up-data-mining/sandy_eng.py(210)crossval_ROC()\n",
      "-> fpr = dict()\n",
      "(Pdb) c\n",
      "Class 0\n",
      "> /home/spencer/School/pump-it-up-data-mining/sandy_eng.py(227)crossval_ROC()\n",
      "-> print('\\t Fold #%d' %k)\n",
      "(Pdb) c\n",
      "\t Fold #0\n",
      "\t\n",
      "(5941, 2)\n",
      "> /home/spencer/School/pump-it-up-data-mining/sandy_eng.py(226)crossval_ROC()\n",
      "-> pdb.set_trace()\n",
      "(Pdb) c\n",
      "\t Fold #1\n",
      "\t\n",
      "(5941, 2)\n",
      "> /home/spencer/School/pump-it-up-data-mining/sandy_eng.py(227)crossval_ROC()\n",
      "-> print('\\t Fold #%d' %k)\n",
      "(Pdb) c\n",
      "\t Fold #2\n",
      "\t\n",
      "(5940, 2)\n"
     ]
    }
   ],
   "source": [
    "%%time\n",
    "crossval_ROC(rf32, 5, X_train, y_train.values)"
   ]
  },
  {
   "cell_type": "code",
   "execution_count": null,
   "metadata": {
    "collapsed": true
   },
   "outputs": [],
   "source": []
  }
 ],
 "metadata": {
  "kernelspec": {
   "display_name": "Python [py35]",
   "language": "python",
   "name": "Python [py35]"
  },
  "language_info": {
   "codemirror_mode": {
    "name": "ipython",
    "version": 3
   },
   "file_extension": ".py",
   "mimetype": "text/x-python",
   "name": "python",
   "nbconvert_exporter": "python",
   "pygments_lexer": "ipython3",
   "version": "3.5.3"
  }
 },
 "nbformat": 4,
 "nbformat_minor": 0
}
