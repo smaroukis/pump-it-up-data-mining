{
 "cells": [
  {
   "cell_type": "code",
   "execution_count": 1,
   "metadata": {
    "collapsed": false,
    "deletable": true,
    "editable": true
   },
   "outputs": [],
   "source": [
    "import pandas as pd\n",
    "import numpy as np\n",
    "import string\n",
    "import matplotlib.pyplot as plt\n",
    "import matplotlib\n",
    "import sklearn as sk\n",
    "matplotlib.style.use('ggplot')\n",
    "\n",
    "# From Excel training sheets\n",
    "training_values = pd.read_csv('/Users/noahmitchellward/Desktop/EECS_351/Project/Training_Set_Values.csv')\n",
    "training_labels = pd.read_csv('/Users/noahmitchellward/Desktop/EECS_351/Project/Training_Set_Labels.csv')\n",
    "\n",
    "# Get the full training set\n",
    "train = pd.merge(training_labels, training_values, how='inner', on='id')\n"
   ]
  },
  {
   "cell_type": "code",
   "execution_count": 2,
   "metadata": {
    "collapsed": false,
    "deletable": true,
    "editable": true
   },
   "outputs": [
    {
     "data": {
      "text/html": [
       "<div>\n",
       "<table border=\"1\" class=\"dataframe\">\n",
       "  <thead>\n",
       "    <tr style=\"text-align: right;\">\n",
       "      <th></th>\n",
       "      <th>id</th>\n",
       "      <th>status_group</th>\n",
       "      <th>amount_tsh</th>\n",
       "      <th>date_recorded</th>\n",
       "      <th>funder</th>\n",
       "      <th>gps_height</th>\n",
       "      <th>installer</th>\n",
       "      <th>longitude</th>\n",
       "      <th>latitude</th>\n",
       "      <th>wpt_name</th>\n",
       "      <th>...</th>\n",
       "      <th>payment_type</th>\n",
       "      <th>water_quality</th>\n",
       "      <th>quality_group</th>\n",
       "      <th>quantity</th>\n",
       "      <th>quantity_group</th>\n",
       "      <th>source</th>\n",
       "      <th>source_type</th>\n",
       "      <th>source_class</th>\n",
       "      <th>waterpoint_type</th>\n",
       "      <th>waterpoint_type_group</th>\n",
       "    </tr>\n",
       "  </thead>\n",
       "  <tbody>\n",
       "  </tbody>\n",
       "</table>\n",
       "<p>0 rows × 41 columns</p>\n",
       "</div>"
      ],
      "text/plain": [
       "Empty DataFrame\n",
       "Columns: [id, status_group, amount_tsh, date_recorded, funder, gps_height, installer, longitude, latitude, wpt_name, num_private, basin, subvillage, region, region_code, district_code, lga, ward, population, public_meeting, recorded_by, scheme_management, scheme_name, permit, construction_year, extraction_type, extraction_type_group, extraction_type_class, management, management_group, payment, payment_type, water_quality, quality_group, quantity, quantity_group, source, source_type, source_class, waterpoint_type, waterpoint_type_group]\n",
       "Index: []\n",
       "\n",
       "[0 rows x 41 columns]"
      ]
     },
     "execution_count": 2,
     "metadata": {},
     "output_type": "execute_result"
    }
   ],
   "source": [
    "# Replacing zero/null construction years with the average of construction year\n",
    "constrMean = train[train['construction_year'] > 0]['construction_year'].mean()\n",
    "\n",
    "train2 = train\n",
    "\n",
    "train2['construction_year'] = train2['construction_year'].replace(np.nan,constrMean)\n",
    "train2['construction_year'] = train2['construction_year'].replace(0,constrMean)\n",
    "train2.loc[train2['construction_year'] == np.nan]"
   ]
  },
  {
   "cell_type": "code",
   "execution_count": 3,
   "metadata": {
    "collapsed": false,
    "deletable": true,
    "editable": true
   },
   "outputs": [
    {
     "data": {
      "text/plain": [
       "functional                 32259\n",
       "non functional             22824\n",
       "functional needs repair     4317\n",
       "Name: status_group, dtype: int64"
      ]
     },
     "execution_count": 3,
     "metadata": {},
     "output_type": "execute_result"
    }
   ],
   "source": [
    "train2['status_group'].value_counts()"
   ]
  },
  {
   "cell_type": "code",
   "execution_count": 32,
   "metadata": {
    "collapsed": false,
    "deletable": true,
    "editable": true,
    "scrolled": true
   },
   "outputs": [
    {
     "data": {
      "text/html": [
       "<div>\n",
       "<table border=\"1\" class=\"dataframe\">\n",
       "  <thead>\n",
       "    <tr style=\"text-align: right;\">\n",
       "      <th>status_group</th>\n",
       "      <th>functional</th>\n",
       "      <th>functional needs repair</th>\n",
       "      <th>non functional</th>\n",
       "    </tr>\n",
       "    <tr>\n",
       "      <th>district_code</th>\n",
       "      <th></th>\n",
       "      <th></th>\n",
       "      <th></th>\n",
       "    </tr>\n",
       "  </thead>\n",
       "  <tbody>\n",
       "    <tr>\n",
       "      <th>0</th>\n",
       "      <td>4</td>\n",
       "      <td>2</td>\n",
       "      <td>17</td>\n",
       "    </tr>\n",
       "    <tr>\n",
       "      <th>1</th>\n",
       "      <td>6558</td>\n",
       "      <td>1287</td>\n",
       "      <td>4358</td>\n",
       "    </tr>\n",
       "    <tr>\n",
       "      <th>2</th>\n",
       "      <td>6203</td>\n",
       "      <td>844</td>\n",
       "      <td>4126</td>\n",
       "    </tr>\n",
       "    <tr>\n",
       "      <th>3</th>\n",
       "      <td>4954</td>\n",
       "      <td>699</td>\n",
       "      <td>4345</td>\n",
       "    </tr>\n",
       "    <tr>\n",
       "      <th>4</th>\n",
       "      <td>5595</td>\n",
       "      <td>509</td>\n",
       "      <td>2895</td>\n",
       "    </tr>\n",
       "    <tr>\n",
       "      <th>5</th>\n",
       "      <td>2479</td>\n",
       "      <td>194</td>\n",
       "      <td>1683</td>\n",
       "    </tr>\n",
       "    <tr>\n",
       "      <th>6</th>\n",
       "      <td>2055</td>\n",
       "      <td>232</td>\n",
       "      <td>1787</td>\n",
       "    </tr>\n",
       "    <tr>\n",
       "      <th>7</th>\n",
       "      <td>2014</td>\n",
       "      <td>214</td>\n",
       "      <td>1115</td>\n",
       "    </tr>\n",
       "    <tr>\n",
       "      <th>8</th>\n",
       "      <td>589</td>\n",
       "      <td>53</td>\n",
       "      <td>401</td>\n",
       "    </tr>\n",
       "    <tr>\n",
       "      <th>13</th>\n",
       "      <td>119</td>\n",
       "      <td>29</td>\n",
       "      <td>243</td>\n",
       "    </tr>\n",
       "    <tr>\n",
       "      <th>23</th>\n",
       "      <td>165</td>\n",
       "      <td>26</td>\n",
       "      <td>102</td>\n",
       "    </tr>\n",
       "    <tr>\n",
       "      <th>30</th>\n",
       "      <td>689</td>\n",
       "      <td>86</td>\n",
       "      <td>220</td>\n",
       "    </tr>\n",
       "    <tr>\n",
       "      <th>33</th>\n",
       "      <td>194</td>\n",
       "      <td>98</td>\n",
       "      <td>582</td>\n",
       "    </tr>\n",
       "    <tr>\n",
       "      <th>43</th>\n",
       "      <td>213</td>\n",
       "      <td>8</td>\n",
       "      <td>284</td>\n",
       "    </tr>\n",
       "    <tr>\n",
       "      <th>53</th>\n",
       "      <td>250</td>\n",
       "      <td>26</td>\n",
       "      <td>469</td>\n",
       "    </tr>\n",
       "    <tr>\n",
       "      <th>60</th>\n",
       "      <td>51</td>\n",
       "      <td>3</td>\n",
       "      <td>9</td>\n",
       "    </tr>\n",
       "    <tr>\n",
       "      <th>62</th>\n",
       "      <td>57</td>\n",
       "      <td>0</td>\n",
       "      <td>52</td>\n",
       "    </tr>\n",
       "    <tr>\n",
       "      <th>63</th>\n",
       "      <td>62</td>\n",
       "      <td>5</td>\n",
       "      <td>128</td>\n",
       "    </tr>\n",
       "    <tr>\n",
       "      <th>67</th>\n",
       "      <td>5</td>\n",
       "      <td>1</td>\n",
       "      <td>0</td>\n",
       "    </tr>\n",
       "    <tr>\n",
       "      <th>80</th>\n",
       "      <td>3</td>\n",
       "      <td>1</td>\n",
       "      <td>8</td>\n",
       "    </tr>\n",
       "  </tbody>\n",
       "</table>\n",
       "</div>"
      ],
      "text/plain": [
       "status_group   functional  functional needs repair  non functional\n",
       "district_code                                                     \n",
       "0                       4                        2              17\n",
       "1                    6558                     1287            4358\n",
       "2                    6203                      844            4126\n",
       "3                    4954                      699            4345\n",
       "4                    5595                      509            2895\n",
       "5                    2479                      194            1683\n",
       "6                    2055                      232            1787\n",
       "7                    2014                      214            1115\n",
       "8                     589                       53             401\n",
       "13                    119                       29             243\n",
       "23                    165                       26             102\n",
       "30                    689                       86             220\n",
       "33                    194                       98             582\n",
       "43                    213                        8             284\n",
       "53                    250                       26             469\n",
       "60                     51                        3               9\n",
       "62                     57                        0              52\n",
       "63                     62                        5             128\n",
       "67                      5                        1               0\n",
       "80                      3                        1               8"
      ]
     },
     "execution_count": 32,
     "metadata": {},
     "output_type": "execute_result"
    }
   ],
   "source": [
    "# messing around\n",
    "pd.crosstab(train['district_code'],train['status_group'])"
   ]
  },
  {
   "cell_type": "code",
   "execution_count": 12,
   "metadata": {
    "collapsed": true,
    "deletable": true,
    "editable": true
   },
   "outputs": [],
   "source": [
    "# Function to delete columns from dataframe. Input matrix of strings as second parameter.\n",
    "def deleteColumns1(train_values):\n",
    "    catList = ['extraction_type_group','extraction_type_class','quantity_group','quality_group','recorded_by',\n",
    "              'num_private','payment_type','waterpoint_type_group','scheme_name','amount_tsh']\n",
    "    for category in catList:\n",
    "        train_values = train_values.drop(category,1)\n",
    "    return train_values"
   ]
  },
  {
   "cell_type": "code",
   "execution_count": 14,
   "metadata": {
    "collapsed": false,
    "deletable": true,
    "editable": true
   },
   "outputs": [
    {
     "data": {
      "text/plain": [
       "Index(['id', 'status_group', 'date_recorded', 'funder', 'gps_height',\n",
       "       'installer', 'longitude', 'latitude', 'wpt_name', 'basin', 'subvillage',\n",
       "       'region', 'region_code', 'district_code', 'lga', 'ward', 'population',\n",
       "       'public_meeting', 'scheme_management', 'permit', 'construction_year',\n",
       "       'extraction_type', 'management', 'management_group', 'payment',\n",
       "       'water_quality', 'quantity', 'source', 'source_type', 'source_class',\n",
       "       'waterpoint_type'],\n",
       "      dtype='object')"
      ]
     },
     "execution_count": 14,
     "metadata": {},
     "output_type": "execute_result"
    }
   ],
   "source": [
    "deleteColumns1(train).columns"
   ]
  },
  {
   "cell_type": "code",
   "execution_count": 3,
   "metadata": {
    "collapsed": false,
    "deletable": true,
    "editable": true,
    "scrolled": false
   },
   "outputs": [
    {
     "name": "stdout",
     "output_type": "stream",
     "text": [
      "extraction_type_group      afridev  gravity  india mark ii  india mark iii  \\\n",
      "extraction_type                                                              \n",
      "afridev                       1770        0              0               0   \n",
      "cemo                             0        0              0               0   \n",
      "climax                           0        0              0               0   \n",
      "gravity                          0    26780              0               0   \n",
      "india mark ii                    0        0           2400               0   \n",
      "india mark iii                   0        0              0              98   \n",
      "ksb                              0        0              0               0   \n",
      "mono                             0        0              0               0   \n",
      "nira/tanira                      0        0              0               0   \n",
      "other                            0        0              0               0   \n",
      "other - mkulima/shinyanga        0        0              0               0   \n",
      "other - play pump                0        0              0               0   \n",
      "other - rope pump                0        0              0               0   \n",
      "other - swn 81                   0        0              0               0   \n",
      "submersible                      0        0              0               0   \n",
      "swn 80                           0        0              0               0   \n",
      "walimi                           0        0              0               0   \n",
      "windmill                         0        0              0               0   \n",
      "\n",
      "extraction_type_group      mono  nira/tanira  other  other handpump  \\\n",
      "extraction_type                                                       \n",
      "afridev                       0            0      0               0   \n",
      "cemo                          0            0      0               0   \n",
      "climax                        0            0      0               0   \n",
      "gravity                       0            0      0               0   \n",
      "india mark ii                 0            0      0               0   \n",
      "india mark iii                0            0      0               0   \n",
      "ksb                           0            0      0               0   \n",
      "mono                       2865            0      0               0   \n",
      "nira/tanira                   0         8154      0               0   \n",
      "other                         0            0   6430               0   \n",
      "other - mkulima/shinyanga     0            0      0               2   \n",
      "other - play pump             0            0      0              85   \n",
      "other - rope pump             0            0      0               0   \n",
      "other - swn 81                0            0      0             229   \n",
      "submersible                   0            0      0               0   \n",
      "swn 80                        0            0      0               0   \n",
      "walimi                        0            0      0              48   \n",
      "windmill                      0            0      0               0   \n",
      "\n",
      "extraction_type_group      other motorpump  rope pump  submersible  swn 80  \\\n",
      "extraction_type                                                              \n",
      "afridev                                  0          0            0       0   \n",
      "cemo                                    90          0            0       0   \n",
      "climax                                  32          0            0       0   \n",
      "gravity                                  0          0            0       0   \n",
      "india mark ii                            0          0            0       0   \n",
      "india mark iii                           0          0            0       0   \n",
      "ksb                                      0          0         1415       0   \n",
      "mono                                     0          0            0       0   \n",
      "nira/tanira                              0          0            0       0   \n",
      "other                                    0          0            0       0   \n",
      "other - mkulima/shinyanga                0          0            0       0   \n",
      "other - play pump                        0          0            0       0   \n",
      "other - rope pump                        0        451            0       0   \n",
      "other - swn 81                           0          0            0       0   \n",
      "submersible                              0          0         4764       0   \n",
      "swn 80                                   0          0            0    3670   \n",
      "walimi                                   0          0            0       0   \n",
      "windmill                                 0          0            0       0   \n",
      "\n",
      "extraction_type_group      wind-powered  \n",
      "extraction_type                          \n",
      "afridev                               0  \n",
      "cemo                                  0  \n",
      "climax                                0  \n",
      "gravity                               0  \n",
      "india mark ii                         0  \n",
      "india mark iii                        0  \n",
      "ksb                                   0  \n",
      "mono                                  0  \n",
      "nira/tanira                           0  \n",
      "other                                 0  \n",
      "other - mkulima/shinyanga             0  \n",
      "other - play pump                     0  \n",
      "other - rope pump                     0  \n",
      "other - swn 81                        0  \n",
      "submersible                           0  \n",
      "swn 80                                0  \n",
      "walimi                                0  \n",
      "windmill                            117  \n",
      "extraction_type_class      gravity  handpump  motorpump  other  rope pump  \\\n",
      "extraction_type                                                             \n",
      "afridev                          0      1770          0      0          0   \n",
      "cemo                             0         0         90      0          0   \n",
      "climax                           0         0         32      0          0   \n",
      "gravity                      26780         0          0      0          0   \n",
      "india mark ii                    0      2400          0      0          0   \n",
      "india mark iii                   0        98          0      0          0   \n",
      "ksb                              0         0          0      0          0   \n",
      "mono                             0         0       2865      0          0   \n",
      "nira/tanira                      0      8154          0      0          0   \n",
      "other                            0         0          0   6430          0   \n",
      "other - mkulima/shinyanga        0         2          0      0          0   \n",
      "other - play pump                0        85          0      0          0   \n",
      "other - rope pump                0         0          0      0        451   \n",
      "other - swn 81                   0       229          0      0          0   \n",
      "submersible                      0         0          0      0          0   \n",
      "swn 80                           0      3670          0      0          0   \n",
      "walimi                           0        48          0      0          0   \n",
      "windmill                         0         0          0      0          0   \n",
      "\n",
      "extraction_type_class      submersible  wind-powered  \n",
      "extraction_type                                       \n",
      "afridev                              0             0  \n",
      "cemo                                 0             0  \n",
      "climax                               0             0  \n",
      "gravity                              0             0  \n",
      "india mark ii                        0             0  \n",
      "india mark iii                       0             0  \n",
      "ksb                               1415             0  \n",
      "mono                                 0             0  \n",
      "nira/tanira                          0             0  \n",
      "other                                0             0  \n",
      "other - mkulima/shinyanga            0             0  \n",
      "other - play pump                    0             0  \n",
      "other - rope pump                    0             0  \n",
      "other - swn 81                       0             0  \n",
      "submersible                       4764             0  \n",
      "swn 80                               0             0  \n",
      "walimi                               0             0  \n",
      "windmill                             0           117  \n",
      "quantity_group   dry  enough  insufficient  seasonal  unknown\n",
      "quantity                                                     \n",
      "dry             6246       0             0         0        0\n",
      "enough             0   33186             0         0        0\n",
      "insufficient       0       0         15129         0        0\n",
      "seasonal           0       0             0      4050        0\n",
      "unknown            0       0             0         0      789\n"
     ]
    }
   ],
   "source": [
    "# Removing columns that are deemed not useful, incoherent, or have little predictive power\n",
    "\n",
    "# We can see here that extraction_type is the most specific instance of the extraction method, with\n",
    "# extraction_type_group is the most general, and extraction_type_class in the middle. We use the most specific case.\n",
    "print(pd.crosstab(train['extraction_type'],train['extraction_type_group']))\n",
    "\n",
    "print(pd.crosstab(train['extraction_type'],train['extraction_type_class']))\n",
    "\n",
    "del train2['extraction_type_group']\n",
    "del train2['extraction_type_class']\n",
    "\n",
    "# Next is quantity and quantity_group - they contain the same data, so we delete quantity_group\n",
    "print(pd.crosstab(train['quantity'],train['quantity_group']))\n",
    "\n",
    "del train2['quantity_group']\n"
   ]
  },
  {
   "cell_type": "code",
   "execution_count": 34,
   "metadata": {
    "collapsed": true,
    "deletable": true,
    "editable": true
   },
   "outputs": [],
   "source": [
    "# Function to delete columns from dataframe\n",
    "def deleteColumns(df, catList):\n",
    "    for category in catList:\n",
    "        df = df.drop(category,1)\n",
    "    return df"
   ]
  },
  {
   "cell_type": "code",
   "execution_count": 35,
   "metadata": {
    "collapsed": false,
    "deletable": true,
    "editable": true
   },
   "outputs": [
    {
     "data": {
      "text/plain": [
       "Index(['id', 'status_group', 'amount_tsh', 'date_recorded', 'funder',\n",
       "       'gps_height', 'installer', 'longitude', 'latitude', 'wpt_name', 'basin',\n",
       "       'subvillage', 'region', 'region_code', 'district_code', 'lga', 'ward',\n",
       "       'population', 'public_meeting', 'recorded_by', 'scheme_management',\n",
       "       'scheme_name', 'permit', 'construction_year', 'extraction_type',\n",
       "       'management', 'management_group', 'payment_type', 'water_quality',\n",
       "       'quality_group', 'quantity', 'source', 'source_type', 'source_class',\n",
       "       'waterpoint_type', 'waterpoint_type_group'],\n",
       "      dtype='object')"
      ]
     },
     "execution_count": 35,
     "metadata": {},
     "output_type": "execute_result"
    }
   ],
   "source": [
    "deleteColumns(train2,['num_private','payment']).columns"
   ]
  },
  {
   "cell_type": "code",
   "execution_count": 40,
   "metadata": {
    "collapsed": false,
    "deletable": true,
    "editable": true
   },
   "outputs": [
    {
     "data": {
      "text/plain": [
       "Index(['id', 'status_group', 'amount_tsh', 'date_recorded', 'funder',\n",
       "       'gps_height', 'installer', 'longitude', 'latitude', 'wpt_name',\n",
       "       'num_private', 'basin', 'subvillage', 'region', 'region_code',\n",
       "       'district_code', 'lga', 'ward', 'population', 'public_meeting',\n",
       "       'recorded_by', 'scheme_management', 'scheme_name', 'permit',\n",
       "       'construction_year', 'extraction_type', 'extraction_type_group',\n",
       "       'extraction_type_class', 'management', 'management_group', 'payment',\n",
       "       'payment_type', 'water_quality', 'quality_group', 'quantity',\n",
       "       'quantity_group', 'source', 'source_type', 'source_class',\n",
       "       'waterpoint_type', 'waterpoint_type_group'],\n",
       "      dtype='object')"
      ]
     },
     "execution_count": 40,
     "metadata": {},
     "output_type": "execute_result"
    }
   ],
   "source": [
    "train2.columns"
   ]
  },
  {
   "cell_type": "code",
   "execution_count": 3,
   "metadata": {
    "collapsed": false,
    "deletable": true,
    "editable": true
   },
   "outputs": [
    {
     "name": "stdout",
     "output_type": "stream",
     "text": [
      "                gps_height  longitude   latitude  population\n",
      "district_code                                               \n",
      "0                      NaN  36.660254  -6.462376         NaN\n",
      "1               998.432498  35.236521  -4.898312       363.0\n",
      "2              1154.388257  34.766709  -5.004393       396.0\n",
      "3               980.406531  34.572040  -6.279798       335.0\n",
      "4              1262.733170  35.019680  -6.682858       234.0\n",
      "5              1035.829251  35.359905  -6.370696       268.0\n",
      "6               768.784663  35.059489  -5.061056       404.0\n",
      "7              1357.935826  35.320572  -4.668943       241.0\n",
      "8              1230.076923  34.585217  -3.582127       363.0\n",
      "13               71.455243  39.186059  -8.774497       360.0\n",
      "23              135.791096  39.481374 -10.087429       403.0\n",
      "30             1472.082822  32.290148  -2.856005       425.0\n",
      "33              374.255149  39.033148 -10.290958       469.0\n",
      "43              167.371769  38.837396  -7.940416       923.0\n",
      "53              141.569106  38.917188  -8.742259       625.0\n",
      "60              -18.444444  39.678166  -7.924318       168.0\n",
      "62               24.603774  39.605781 -10.000560       460.0\n",
      "63              249.276923  38.706993 -10.426976       145.0\n",
      "67              -25.333333  39.740153  -7.971318       158.0\n",
      "80                     NaN  34.043241  -3.950315         NaN\n",
      "gps_height    632.289735\n",
      "longitude      36.805002\n",
      "latitude       -6.898780\n",
      "population    374.000000\n",
      "dtype: float64\n"
     ]
    }
   ],
   "source": [
    "districts = [1,2,3,4,5,6,7,8,13,23,30,33,43,53,60,62,63,67]\n",
    "\n",
    "#Read in csv\n",
    "district_values = training_values.filter(['district_code', 'gps_height','longitude','latitude','population'], axis=1)\n",
    "district_values = district_values.sort_values(by='district_code')\n",
    "\n",
    "#Replace zeros/ones with NaNs for correct calculation of means\n",
    "district_values['gps_height'] = district_values['gps_height'].replace(0, np.nan)\n",
    "district_values['longitude'] = district_values['longitude'].replace(0, np.nan)\n",
    "district_values['latitude'] = district_values['latitude'].replace(0, np.nan)\n",
    "district_values['population'] = district_values['population'].replace(0, np.nan)\n",
    "district_values['population'] = district_values['population'].replace(1, np.nan)\n",
    "\n",
    "district_values.to_csv(\"District Values.csv\")\n",
    "\n",
    "#Calculate means\n",
    "district_means = district_values.groupby(['district_code']).mean()\n",
    "#Round the population column\n",
    "district_means['population'] = district_means['population'].round()\n",
    "print(district_means)\n",
    "\n",
    "#Replace zeros/ones with NaNs in original dataframe for correct replacements\n",
    "training_values['gps_height'] = training_values['gps_height'].replace(0, np.nan)\n",
    "training_values['longitude'] = training_values['longitude'].replace(0, np.nan)\n",
    "training_values['latitude'] = training_values['latitude'].replace(0, np.nan)\n",
    "training_values['population'] = training_values['population'].replace(0, np.nan)\n",
    "training_values['population'] = training_values['population'].replace(1, np.nan)\n",
    "\n",
    "j = 1;\n",
    "for i in districts:\n",
    "\t#Create dictionaries for each district code\n",
    "\ttemp_dict = {'gps_height': district_means.iloc[j]['gps_height'], 'longitude': district_means.iloc[j]['longitude'],\n",
    "\t\t\t\t'latitude': district_means.iloc[j]['latitude'], 'population': district_means.iloc[j]['population']}\n",
    "\t#Assign fill values based on dictionary\n",
    "\ttraining_values.loc[training_values['district_code'] == i, :] = training_values.loc[training_values['district_code'] == i, :].fillna(temp_dict)\n",
    "\tj += 1\n",
    "\n",
    "#Districts 0 and 80 have NaN means for gps_height and population,\n",
    "#\tso calculate alternate values and fill in appropriately\n",
    "col_means = district_means.mean()\n",
    "col_means['population'] = col_means['population'].round()\n",
    "print(col_means)\n",
    "\n",
    "dict0 = {'gps_height': col_means['gps_height'], 'longitude': district_means.iloc[0]['longitude'],\n",
    "\t\t\t\t'latitude': district_means.iloc[0]['latitude'], 'population': col_means['population']}\n",
    "\n",
    "dict80 = {'gps_height': col_means['gps_height'], 'longitude': district_means.iloc[19]['longitude'],\n",
    "\t\t\t\t'latitude': district_means.iloc[19]['latitude'], 'population': col_means['population']}\n",
    "training_values.loc[training_values['district_code'] == 0, :] = training_values.loc[training_values['district_code'] == 0, :].fillna(dict0)\n",
    "training_values.loc[training_values['district_code'] == 80, :] = training_values.loc[training_values['district_code'] == 80, :].fillna(dict80)"
   ]
  },
  {
   "cell_type": "code",
   "execution_count": 4,
   "metadata": {
    "collapsed": false,
    "deletable": true,
    "editable": true
   },
   "outputs": [
    {
     "data": {
      "text/plain": [
       "array([[   34.93809275,    -9.85632177,  1390.        ],\n",
       "       [   34.6987661 ,    -2.14746569,  1399.        ],\n",
       "       [   37.46066446,    -3.82132853,   686.        ],\n",
       "       ..., \n",
       "       [   34.01708706,    -8.75043433,  1357.93582589],\n",
       "       [   35.86131531,    -6.37857327,  1262.73317033],\n",
       "       [   38.10404822,    -6.74746425,   191.        ]])"
      ]
     },
     "execution_count": 4,
     "metadata": {},
     "output_type": "execute_result"
    }
   ],
   "source": [
    "svmCols = pd.concat([training_values['longitude'], train2['latitude']], axis=1)\n",
    "svmCols = pd.concat([svmCols, training_values['gps_height']], axis=1)\n",
    "\n",
    "X = svmCols.as_matrix()\n",
    "X"
   ]
  },
  {
   "cell_type": "code",
   "execution_count": 6,
   "metadata": {
    "collapsed": false,
    "deletable": true,
    "editable": true
   },
   "outputs": [
    {
     "data": {
      "text/plain": [
       "0                     functional\n",
       "1                     functional\n",
       "2                     functional\n",
       "3                 non functional\n",
       "4                     functional\n",
       "5                     functional\n",
       "6                 non functional\n",
       "7                 non functional\n",
       "8                 non functional\n",
       "9                     functional\n",
       "10                    functional\n",
       "11                    functional\n",
       "12                    functional\n",
       "13                    functional\n",
       "14                    functional\n",
       "15                    functional\n",
       "16                non functional\n",
       "17                non functional\n",
       "18       functional needs repair\n",
       "19                    functional\n",
       "20                    functional\n",
       "21                    functional\n",
       "22       functional needs repair\n",
       "23                    functional\n",
       "24                    functional\n",
       "25       functional needs repair\n",
       "26                    functional\n",
       "27                    functional\n",
       "28                non functional\n",
       "29                    functional\n",
       "                  ...           \n",
       "59370                 functional\n",
       "59371             non functional\n",
       "59372             non functional\n",
       "59373                 functional\n",
       "59374                 functional\n",
       "59375                 functional\n",
       "59376             non functional\n",
       "59377             non functional\n",
       "59378                 functional\n",
       "59379                 functional\n",
       "59380             non functional\n",
       "59381             non functional\n",
       "59382             non functional\n",
       "59383                 functional\n",
       "59384             non functional\n",
       "59385                 functional\n",
       "59386                 functional\n",
       "59387                 functional\n",
       "59388                 functional\n",
       "59389                 functional\n",
       "59390                 functional\n",
       "59391             non functional\n",
       "59392             non functional\n",
       "59393                 functional\n",
       "59394             non functional\n",
       "59395                 functional\n",
       "59396                 functional\n",
       "59397                 functional\n",
       "59398                 functional\n",
       "59399                 functional\n",
       "Name: status_group, dtype: object"
      ]
     },
     "execution_count": 6,
     "metadata": {},
     "output_type": "execute_result"
    }
   ],
   "source": [
    "from itertools import cycle\n",
    "\n",
    "from sklearn import svm\n",
    "from sklearn.metrics import roc_curve, auc\n",
    "from sklearn.model_selection import train_test_split\n",
    "from sklearn.preprocessing import label_binarize\n",
    "from sklearn.multiclass import OneVsRestClassifier\n",
    "from scipy import interp\n",
    "\n",
    "y = training_labels['status_group']\n",
    "\n",
    "y\n"
   ]
  },
  {
   "cell_type": "code",
   "execution_count": 7,
   "metadata": {
    "collapsed": false,
    "deletable": true,
    "editable": true
   },
   "outputs": [
    {
     "data": {
      "text/plain": [
       "array([[1, 0, 0],\n",
       "       [1, 0, 0],\n",
       "       [1, 0, 0],\n",
       "       ..., \n",
       "       [1, 0, 0],\n",
       "       [1, 0, 0],\n",
       "       [1, 0, 0]])"
      ]
     },
     "execution_count": 7,
     "metadata": {},
     "output_type": "execute_result"
    }
   ],
   "source": [
    "y = label_binarize(y, classes=['functional', 'non functional', 'functional needs repair'])\n",
    "n_classes = y.shape[1]\n",
    "\n",
    "X_train, X_test, y_train, y_test = train_test_split(X, y, test_size=.5,\n",
    "                                                    random_state=0)\n",
    "y\n"
   ]
  },
  {
   "cell_type": "code",
   "execution_count": 47,
   "metadata": {
    "collapsed": false,
    "deletable": true,
    "editable": true
   },
   "outputs": [],
   "source": [
    "# Learn to predict each class against the other, used for ROC curves\n",
    "classifier = OneVsRestClassifier(svm.SVC(kernel='rbf'))\n",
    "y_score = classifier.fit(X_train, y_train).decision_function(X_test)\n"
   ]
  },
  {
   "cell_type": "code",
   "execution_count": 12,
   "metadata": {
    "collapsed": false,
    "deletable": true,
    "editable": true
   },
   "outputs": [
    {
     "data": {
      "text/plain": [
       "OneVsRestClassifier(estimator=SVC(C=1.0, cache_size=200, class_weight=None, coef0=0.0,\n",
       "  decision_function_shape=None, degree=3, gamma='auto', kernel='rbf',\n",
       "  max_iter=-1, probability=False, random_state=None, shrinking=True,\n",
       "  tol=0.001, verbose=False),\n",
       "          n_jobs=1)"
      ]
     },
     "execution_count": 12,
     "metadata": {},
     "output_type": "execute_result"
    }
   ],
   "source": [
    "# Learn to predict each class against the other\n",
    "classifier = OneVsRestClassifier(svm.SVC())\n",
    "classifier.fit(X_train, y_train)"
   ]
  },
  {
   "cell_type": "code",
   "execution_count": 13,
   "metadata": {
    "collapsed": false,
    "deletable": true,
    "editable": true
   },
   "outputs": [
    {
     "data": {
      "text/plain": [
       "0.49841750841750843"
      ]
     },
     "execution_count": 13,
     "metadata": {},
     "output_type": "execute_result"
    }
   ],
   "source": [
    "score = classifier.score(X_test,y_test)\n",
    "score"
   ]
  },
  {
   "cell_type": "code",
   "execution_count": 57,
   "metadata": {
    "collapsed": true,
    "deletable": true,
    "editable": true
   },
   "outputs": [],
   "source": [
    "# plotting ROC curves\n",
    "\n",
    "y_score = classifier.fit(X_train, y_train).decision_function(X_test)\n",
    "\n",
    "# Compute ROC curve and ROC area for each class\n",
    "fpr = dict()\n",
    "tpr = dict()\n",
    "roc_auc = dict()\n",
    "for i in range(n_classes):\n",
    "    fpr[i], tpr[i], _ = roc_curve(y_test[:, i], y_score[:, i])\n",
    "    roc_auc[i] = auc(fpr[i], tpr[i])\n",
    "\n",
    "# Compute micro-average ROC curve and ROC area\n",
    "fpr[\"micro\"], tpr[\"micro\"], _ = roc_curve(y_test.ravel(), y_score.ravel())\n",
    "roc_auc[\"micro\"] = auc(fpr[\"micro\"], tpr[\"micro\"])\n"
   ]
  },
  {
   "cell_type": "code",
   "execution_count": 60,
   "metadata": {
    "collapsed": false,
    "deletable": true,
    "editable": true
   },
   "outputs": [
    {
     "data": {
      "image/png": "[encoded data removed]",
      "text/plain": [
       "<matplotlib.figure.Figure at 0x10a6b5358>"
      ]
     },
     "metadata": {},
     "output_type": "display_data"
    }
   ],
   "source": [
    "# Actual plotting step\n",
    "plt.figure()\n",
    "lw = 2\n",
    "plt.plot(fpr[0], tpr[0], color='darkorange',\n",
    "         lw=lw, label='ROC curve (area = %0.2f)' % roc_auc[0])\n",
    "plt.plot([0, 1], [0, 1], color='navy', lw=lw, linestyle='--')\n",
    "plt.xlim([0.0, 1.0])\n",
    "plt.ylim([0.0, 1.05])\n",
    "plt.xlabel('False Positive Rate')\n",
    "plt.ylabel('True Positive Rate')\n",
    "plt.title('Receiver operating characteristic example')\n",
    "plt.legend(loc=\"lower right\")\n",
    "plt.show()"
   ]
  },
  {
   "cell_type": "code",
   "execution_count": 61,
   "metadata": {
    "collapsed": false,
    "deletable": true,
    "editable": true
   },
   "outputs": [
    {
     "data": {
      "image/png": "[encoded data removed]",
      "text/plain": [
       "<matplotlib.figure.Figure at 0x111f12d30>"
      ]
     },
     "metadata": {},
     "output_type": "display_data"
    }
   ],
   "source": [
    "# Compute macro-average ROC curve and ROC area\n",
    "\n",
    "# First aggregate all false positive rates\n",
    "all_fpr = np.unique(np.concatenate([fpr[i] for i in range(n_classes)]))\n",
    "\n",
    "# Then interpolate all ROC curves at this points\n",
    "mean_tpr = np.zeros_like(all_fpr)\n",
    "for i in range(n_classes):\n",
    "    mean_tpr += interp(all_fpr, fpr[i], tpr[i])\n",
    "\n",
    "# Finally average it and compute AUC\n",
    "mean_tpr /= n_classes\n",
    "\n",
    "fpr[\"macro\"] = all_fpr\n",
    "tpr[\"macro\"] = mean_tpr\n",
    "roc_auc[\"macro\"] = auc(fpr[\"macro\"], tpr[\"macro\"])\n",
    "\n",
    "# Plot all ROC curves\n",
    "plt.figure()\n",
    "plt.plot(fpr[\"micro\"], tpr[\"micro\"],\n",
    "         label='micro-average ROC curve (area = {0:0.2f})'\n",
    "               ''.format(roc_auc[\"micro\"]),\n",
    "         color='deeppink', linestyle=':', linewidth=4)\n",
    "\n",
    "plt.plot(fpr[\"macro\"], tpr[\"macro\"],\n",
    "         label='macro-average ROC curve (area = {0:0.2f})'\n",
    "               ''.format(roc_auc[\"macro\"]),\n",
    "         color='navy', linestyle=':', linewidth=4)\n",
    "\n",
    "colors = cycle(['aqua', 'darkorange', 'cornflowerblue'])\n",
    "for i, color in zip(range(n_classes), colors):\n",
    "    plt.plot(fpr[i], tpr[i], color=color, lw=lw,\n",
    "             label='ROC curve of class {0} (area = {1:0.2f})'\n",
    "             ''.format(i, roc_auc[i]))\n",
    "\n",
    "plt.plot([0, 1], [0, 1], 'k--', lw=lw)\n",
    "plt.xlim([0.0, 1.0])\n",
    "plt.ylim([0.0, 1.05])\n",
    "plt.xlabel('False Positive Rate')\n",
    "plt.ylabel('True Positive Rate')\n",
    "plt.title('Some extension of Receiver operating characteristic to multi-class')\n",
    "plt.legend(loc=\"lower right\")\n",
    "plt.show()"
   ]
  },
  {
   "cell_type": "code",
   "execution_count": 63,
   "metadata": {
    "collapsed": false,
    "deletable": true,
    "editable": true
   },
   "outputs": [
    {
     "data": {
      "image/png": "[encoded data removed]",
      "text/plain": [
       "<matplotlib.figure.Figure at 0x115d2c4a8>"
      ]
     },
     "metadata": {},
     "output_type": "display_data"
    }
   ],
   "source": [
    "# Compute macro-average ROC curve and ROC area\n",
    "\n",
    "# First aggregate all false positive rates\n",
    "all_fpr = np.unique(np.concatenate([fpr[i] for i in range(n_classes)]))\n",
    "\n",
    "# Then interpolate all ROC curves at this points\n",
    "mean_tpr = np.zeros_like(all_fpr)\n",
    "for i in range(n_classes):\n",
    "    mean_tpr += interp(all_fpr, fpr[i], tpr[i])\n",
    "\n",
    "# Finally average it and compute AUC\n",
    "mean_tpr /= n_classes\n",
    "\n",
    "fpr[\"macro\"] = all_fpr\n",
    "tpr[\"macro\"] = mean_tpr\n",
    "roc_auc[\"macro\"] = auc(fpr[\"macro\"], tpr[\"macro\"])\n",
    "\n",
    "# Plot all ROC curves\n",
    "#plt.figure()\n",
    "#plt.plot(fpr[\"micro\"], tpr[\"micro\"],\n",
    " #        label='micro-average ROC curve (area = {0:0.2f})'\n",
    "  #             ''.format(roc_auc[\"micro\"]),\n",
    "   #      color='deeppink', linestyle=':', linewidth=4)\n",
    "\n",
    "#plt.plot(fpr[\"macro\"], tpr[\"macro\"],\n",
    " #        label='macro-average ROC curve (area = {0:0.2f})'\n",
    "  #             ''.format(roc_auc[\"macro\"]),\n",
    "   #      color='navy', linestyle=':', linewidth=4)\n",
    "\n",
    "colors = cycle(['aqua', 'darkorange', 'cornflowerblue'])\n",
    "for i, color in zip(range(n_classes), colors):\n",
    "    plt.plot(fpr[i], tpr[i], color=color, lw=lw,\n",
    "             label='ROC curve of class {0} (area = {1:0.2f})'\n",
    "             ''.format(i, roc_auc[i]))\n",
    "\n",
    "plt.plot([0, 1], [0, 1], 'k--', lw=lw)\n",
    "plt.xlim([0.0, 1.0])\n",
    "plt.ylim([0.0, 1.05])\n",
    "plt.xlabel('False Positive Rate')\n",
    "plt.ylabel('True Positive Rate')\n",
    "plt.title('Multi-class Receiver Operating Characteristic')\n",
    "plt.legend(loc=\"lower right\")\n",
    "plt.show()"
   ]
  },
  {
   "cell_type": "code",
   "execution_count": 54,
   "metadata": {
    "collapsed": false,
    "deletable": true,
    "editable": true
   },
   "outputs": [
    {
     "data": {
      "text/plain": [
       "-2.4103197612822527"
      ]
     },
     "execution_count": 54,
     "metadata": {},
     "output_type": "execute_result"
    }
   ],
   "source": [
    "y_score.min()"
   ]
  },
  {
   "cell_type": "code",
   "execution_count": 18,
   "metadata": {
    "collapsed": false,
    "deletable": true,
    "editable": true
   },
   "outputs": [
    {
     "data": {
      "text/plain": [
       "array([0, 0, 0, ..., 0, 0, 0])"
      ]
     },
     "execution_count": 18,
     "metadata": {},
     "output_type": "execute_result"
    }
   ],
   "source": [
    "#DO NOT USE\n",
    "from sklearn import preprocessing\n",
    "\n",
    "y = training_labels['status_group']\n",
    "\n",
    "le = preprocessing.LabelEncoder()\n",
    "le.fit(y)\n",
    "\n",
    "y = le.transform(y)\n",
    "y\n",
    "\n"
   ]
  },
  {
   "cell_type": "code",
   "execution_count": 7,
   "metadata": {
    "collapsed": false,
    "deletable": true,
    "editable": true
   },
   "outputs": [
    {
     "data": {
      "text/plain": [
       "SVC(C=1.0, cache_size=200, class_weight=None, coef0=0.0,\n",
       "  decision_function_shape=None, degree=3, gamma='auto', kernel='rbf',\n",
       "  max_iter=-1, probability=False, random_state=None, shrinking=True,\n",
       "  tol=0.001, verbose=False)"
      ]
     },
     "execution_count": 7,
     "metadata": {},
     "output_type": "execute_result"
    }
   ],
   "source": [
    "from sklearn import svm\n",
    "\n",
    "clf = svm.SVC()\n",
    "clf.fit(X, y)"
   ]
  },
  {
   "cell_type": "code",
   "execution_count": 8,
   "metadata": {
    "collapsed": false,
    "deletable": true,
    "editable": true
   },
   "outputs": [],
   "source": [
    "score = clf.score(X,y)"
   ]
  },
  {
   "cell_type": "code",
   "execution_count": 9,
   "metadata": {
    "collapsed": false,
    "deletable": true,
    "editable": true
   },
   "outputs": [
    {
     "data": {
      "text/plain": [
       "0.65742424242424247"
      ]
     },
     "execution_count": 9,
     "metadata": {},
     "output_type": "execute_result"
    }
   ],
   "source": [
    "score"
   ]
  },
  {
   "cell_type": "code",
   "execution_count": 20,
   "metadata": {
    "collapsed": false,
    "deletable": true,
    "editable": true
   },
   "outputs": [
    {
     "data": {
      "text/plain": [
       "SVC(C=1.0, cache_size=200, class_weight='balanced', coef0=0.0,\n",
       "  decision_function_shape=None, degree=3, gamma='auto', kernel='rbf',\n",
       "  max_iter=-1, probability=False, random_state=None, shrinking=True,\n",
       "  tol=0.001, verbose=False)"
      ]
     },
     "execution_count": 20,
     "metadata": {},
     "output_type": "execute_result"
    }
   ],
   "source": [
    "from sklearn import svm\n",
    "\n",
    "clf = svm.SVC()\n",
    "\n",
    "clf.set_params(class_weight='balanced')\n",
    "clf.fit(X,y)"
   ]
  },
  {
   "cell_type": "code",
   "execution_count": 21,
   "metadata": {
    "collapsed": false,
    "deletable": true,
    "editable": true
   },
   "outputs": [
    {
     "data": {
      "text/plain": [
       "0.57254208754208757"
      ]
     },
     "execution_count": 21,
     "metadata": {},
     "output_type": "execute_result"
    }
   ],
   "source": [
    "clf.score(X,y)"
   ]
  },
  {
   "cell_type": "code",
   "execution_count": 73,
   "metadata": {
    "collapsed": false,
    "deletable": true,
    "editable": true
   },
   "outputs": [],
   "source": [
    "test_values = pd.read_csv('/Users/noahmitchellward/Desktop/EECS_351/Project/Test_Set_Values.csv')\n"
   ]
  },
  {
   "cell_type": "code",
   "execution_count": 74,
   "metadata": {
    "collapsed": false,
    "deletable": true,
    "editable": true
   },
   "outputs": [
    {
     "name": "stdout",
     "output_type": "stream",
     "text": [
      "                gps_height  longitude   latitude  population\n",
      "district_code                                               \n",
      "0                      NaN  36.655865  -6.447832         NaN\n",
      "1              1003.628504  35.210739  -4.870553       380.0\n",
      "2              1122.073317  34.752935  -4.975930       419.0\n",
      "3               976.459692  34.625377  -6.271137       320.0\n",
      "4              1258.506596  35.010093  -6.732730       242.0\n",
      "5              1035.440184  35.329386  -6.222056       301.0\n",
      "6               776.287356  35.124126  -5.047314       376.0\n",
      "7              1364.142529  35.356691  -4.701443       280.0\n",
      "8              1204.666667  34.474573  -3.588141       421.0\n",
      "13               79.476190  39.145966  -8.765210       373.0\n",
      "23              105.104478  39.529255 -10.085737       384.0\n",
      "30             1465.513158  32.118565  -2.808737       348.0\n",
      "33              364.592593  39.010373 -10.229751       400.0\n",
      "43              182.195946  38.801344  -8.054059      1004.0\n",
      "53              125.159091  38.935344  -8.590930       814.0\n",
      "60              -20.769231  39.679439  -7.930462       152.0\n",
      "62               21.888889  39.613236 -10.013417       324.0\n",
      "63              251.362319  38.707760 -10.379259       138.0\n",
      "67              -19.500000  39.739347  -7.972732         NaN\n",
      "80                     NaN  34.015374  -3.947522         NaN\n",
      "gps_height    627.568238\n",
      "longitude      36.791790\n",
      "latitude       -6.881748\n",
      "population    393.000000\n",
      "dtype: float64\n"
     ]
    }
   ],
   "source": [
    "districts2 = [1,2,3,4,5,6,7,8,13,23,30,33,43,53,60,62,63,67]\n",
    "\n",
    "#Read in csv\n",
    "district_values2 = test_values.filter(['district_code', 'gps_height','longitude','latitude','population'], axis=1)\n",
    "district_values2 = district_values2.sort_values(by='district_code')\n",
    "\n",
    "#Replace zeros/ones with NaNs for correct calculation of means\n",
    "district_values2['gps_height'] = district_values2['gps_height'].replace(0, np.nan)\n",
    "district_values2['longitude'] = district_values2['longitude'].replace(0, np.nan)\n",
    "district_values2['latitude'] = district_values2['latitude'].replace(0, np.nan)\n",
    "district_values2['population'] = district_values2['population'].replace(0, np.nan)\n",
    "district_values2['population'] = district_values2['population'].replace(1, np.nan)\n",
    "\n",
    "district_values2.to_csv(\"District Values.csv\")\n",
    "\n",
    "#Calculate means\n",
    "district_means2 = district_values2.groupby(['district_code']).mean()\n",
    "#Round the population column\n",
    "district_means2['population'] = district_means2['population'].round()\n",
    "print(district_means2)\n",
    "\n",
    "#Replace zeros/ones with NaNs in original dataframe for correct replacements\n",
    "test_values['gps_height'] = test_values['gps_height'].replace(0, np.nan)\n",
    "test_values['longitude'] = test_values['longitude'].replace(0, np.nan)\n",
    "test_values['latitude'] = test_values['latitude'].replace(0, np.nan)\n",
    "test_values['population'] = test_values['population'].replace(0, np.nan)\n",
    "test_values['population'] = test_values['population'].replace(1, np.nan)\n",
    "\n",
    "j = 1;\n",
    "for i in districts2:\n",
    "\t#Create dictionaries for each district code\n",
    "\ttemp_dict2 = {'gps_height': district_means2.iloc[j]['gps_height'], 'longitude': district_means2.iloc[j]['longitude'],\n",
    "\t\t\t\t'latitude': district_means2.iloc[j]['latitude'], 'population': district_means2.iloc[j]['population']}\n",
    "\t#Assign fill values based on dictionary\n",
    "\ttest_values.loc[test_values['district_code'] == i, :] = test_values.loc[test_values['district_code'] == i, :].fillna(temp_dict2)\n",
    "\tj += 1\n",
    "\n",
    "#Districts 0 and 80 have NaN means for gps_height and population,\n",
    "#\tso calculate alternate values and fill in appropriately\n",
    "col_means2 = district_means2.mean()\n",
    "col_means2['population'] = col_means2['population'].round()\n",
    "print(col_means2)\n",
    "\n",
    "dict0 = {'gps_height': col_means2['gps_height'], 'longitude': district_means2.iloc[0]['longitude'],\n",
    "\t\t\t\t'latitude': district_means2.iloc[0]['latitude'], 'population': col_means2['population']}\n",
    "\n",
    "dict80 = {'gps_height': col_means2['gps_height'], 'longitude': district_means2.iloc[19]['longitude'],\n",
    "\t\t\t\t'latitude': district_means2.iloc[19]['latitude'], 'population': col_means2['population']}\n",
    "test_values.loc[test_values['district_code'] == 0, :] = test_values.loc[test_values['district_code'] == 0, :].fillna(dict0)\n",
    "test_values.loc[test_values['district_code'] == 80, :] = test_values.loc[test_values['district_code'] == 80, :].fillna(dict80)"
   ]
  },
  {
   "cell_type": "code",
   "execution_count": 75,
   "metadata": {
    "collapsed": false,
    "deletable": true,
    "editable": true
   },
   "outputs": [
    {
     "data": {
      "text/plain": [
       "array([[   35.2907992 ,    -4.05969643,  1996.        ],\n",
       "       [   36.65670893,    -3.30921425,  1569.        ],\n",
       "       [   34.76786315,    -5.00434437,  1567.        ],\n",
       "       ..., \n",
       "       [   34.7398045 ,    -4.58558667,  1476.        ],\n",
       "       [   35.43273168,   -10.58415869,   998.        ],\n",
       "       [   34.76505448,   -11.22601197,   481.        ]])"
      ]
     },
     "execution_count": 75,
     "metadata": {},
     "output_type": "execute_result"
    }
   ],
   "source": [
    "testCols = pd.concat([test_values['longitude'], test_values['latitude']], axis=1)\n",
    "testCols = pd.concat([testCols, test_values['gps_height']], axis=1)\n",
    "\n",
    "N = testCols.as_matrix()\n",
    "N"
   ]
  },
  {
   "cell_type": "code",
   "execution_count": 86,
   "metadata": {
    "collapsed": false,
    "deletable": true,
    "editable": true
   },
   "outputs": [
    {
     "data": {
      "text/plain": [
       "array([2, 0, 0, ..., 2, 0, 0])"
      ]
     },
     "execution_count": 86,
     "metadata": {},
     "output_type": "execute_result"
    }
   ],
   "source": [
    "result = clf.predict(N)\n",
    "result"
   ]
  },
  {
   "cell_type": "code",
   "execution_count": 85,
   "metadata": {
    "collapsed": false,
    "deletable": true,
    "editable": true
   },
   "outputs": [
    {
     "data": {
      "text/plain": [
       "array(['non functional', 'functional', 'functional', ..., 'non functional',\n",
       "       'functional', 'functional'], dtype=object)"
      ]
     },
     "execution_count": 85,
     "metadata": {},
     "output_type": "execute_result"
    }
   ],
   "source": [
    "le.inverse_transform(result)\n"
   ]
  }
 ],
 "metadata": {
  "kernelspec": {
   "display_name": "Python 3",
   "language": "python",
   "name": "python3"
  },
  "language_info": {
   "codemirror_mode": {
    "name": "ipython",
    "version": 3
   },
   "file_extension": ".py",
   "mimetype": "text/x-python",
   "name": "python",
   "nbconvert_exporter": "python",
   "pygments_lexer": "ipython3",
   "version": "3.6.1"
  }
 },
 "nbformat": 4,
 "nbformat_minor": 2
}
