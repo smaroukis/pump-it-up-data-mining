{
 "cells": [
  {
   "cell_type": "code",
   "execution_count": 9,
   "metadata": {
    "collapsed": false,
    "deletable": true,
    "editable": true
   },
   "outputs": [],
   "source": [
    "from feature_eng import *\n",
    "from sandy_eng import *\n",
    "import pandas as pd\n",
    "import numpy as np\n",
    "import matplotlib\n",
    "matplotlib.style.use('ggplot')"
   ]
  },
  {
   "cell_type": "markdown",
   "metadata": {
    "deletable": true,
    "editable": true
   },
   "source": [
    "#### Load Datasets"
   ]
  },
  {
   "cell_type": "code",
   "execution_count": 3,
   "metadata": {
    "collapsed": true,
    "deletable": true,
    "editable": true
   },
   "outputs": [],
   "source": [
    "train=load_training_values()\n",
    "train_labels=load_training_labels()\n",
    "target=train_labels['status_group']\n",
    "test=load_test_values()"
   ]
  },
  {
   "cell_type": "code",
   "execution_count": 14,
   "metadata": {
    "collapsed": false
   },
   "outputs": [],
   "source": [
    "target.value_counts().plot(kind='bar',color=['r','b','g'])\n",
    "plt.savefig('status_counts.png')"
   ]
  },
  {
   "cell_type": "code",
   "execution_count": null,
   "metadata": {
    "collapsed": true
   },
   "outputs": [],
   "source": [
    "#delete irrelevant, redundant, or predictively unimportant problems\n",
    "deleteColumns(train)"
   ]
  },
  {
   "cell_type": "code",
   "execution_count": null,
   "metadata": {
    "collapsed": true
   },
   "outputs": [],
   "source": [
    "#Fills in null or 0 values with average values in different columns according to different procedures\n",
    "\n",
    "#Average over entire column\n",
    "avgConstrYear(train)\n",
    "\n",
    "#Fills in empty cells in TRUE/FALSE columns with \"NEUTRAL\" for public_meeting and permit columns\n",
    "zeros_public_meeting(train)\n",
    "zeros_permit(train)\n",
    "\n",
    "#Fills in location data nulls and 0 values with averages based on district_code\n",
    "zeros_means(train)\n"
   ]
  },
  {
   "cell_type": "code",
   "execution_count": 16,
   "metadata": {
    "collapsed": false,
    "deletable": true,
    "editable": true
   },
   "outputs": [],
   "source": [
    "#Example: Testing on GPS data\n",
    "from sklearn import preprocessing, svm\n",
    "\n",
    "gps_data=train.filter(['longitude','latitude','gps_height'],axis=1)\n",
    "le = preprocessing.LabelEncoder()\n",
    "le.fit(target)\n",
    "y=le.transform(target)\n",
    "\n",
    "classifier=svm.SVC()\n",
    "classifier.fit(gps_data, y)\n",
    "score=classifier.score(gps_data, y)"
   ]
  },
  {
   "cell_type": "code",
   "execution_count": null,
   "metadata": {
    "collapsed": true,
    "deletable": true,
    "editable": true
   },
   "outputs": [],
   "source": []
  }
 ],
 "metadata": {
  "kernelspec": {
   "display_name": "Python [py35]",
   "language": "python",
   "name": "Python [py35]"
  },
  "language_info": {
   "codemirror_mode": {
    "name": "ipython",
    "version": 3
   },
   "file_extension": ".py",
   "mimetype": "text/x-python",
   "name": "python",
   "nbconvert_exporter": "python",
   "pygments_lexer": "ipython3",
   "version": "3.5.3"
  }
 },
 "nbformat": 4,
 "nbformat_minor": 1
}
