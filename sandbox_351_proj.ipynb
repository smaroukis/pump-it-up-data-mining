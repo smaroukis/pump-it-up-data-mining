{
 "cells": [
  {
   "cell_type": "code",
   "execution_count": 9,
   "metadata": {
    "collapsed": true
   },
   "outputs": [],
   "source": [
    "import pandas as pd\n",
    "import numpy as np\n",
    "import string"
   ]
  },
  {
   "cell_type": "code",
   "execution_count": 17,
   "metadata": {
    "collapsed": false
   },
   "outputs": [],
   "source": [
    "test_values=pd.read_csv('data/Test Set Values.csv')\n",
    "train_values=pd.read_csv('data/Training Set Values.csv')"
   ]
  },
  {
   "cell_type": "code",
   "execution_count": 110,
   "metadata": {
    "collapsed": false
   },
   "outputs": [],
   "source": [
    "# Getting columns\n",
    "extraction_type=train_values['extraction_type']\n",
    "extraction_type_group=train_values['extraction_type_group']\n",
    "quantity=train_values['quantity']\n",
    "quantity_group=train_values['quantity_group']\n",
    "source=train_values['source']\n",
    "source_class=train_values['source_class']\n",
    "source_type=train_values['source_type']\n",
    "wpt=train_values['waterpoint_type']\n",
    "wptg=train_values['waterpoint_type_group']"
   ]
  },
  {
   "cell_type": "code",
   "execution_count": 18,
   "metadata": {
    "collapsed": true
   },
   "outputs": [],
   "source": [
    "# For converting excel columns to numerical index (from 0)\n",
    "def col2num(col):\n",
    "    num=0\n",
    "    for c in col:\n",
    "        if c in string.ascii_letters:\n",
    "            num = num * 26 + (ord(c.upper()) - ord('A'))\n",
    "    return num"
   ]
  },
  {
   "cell_type": "code",
   "execution_count": 105,
   "metadata": {
    "collapsed": false
   },
   "outputs": [],
   "source": [
    "# Make a function to check unique values of columns:\n",
    "def check_same(a, b):\n",
    "    print('{} has {} unique values \\n'.format(a.name, len(a.unique())))\n",
    "    print('{} has {} unique values \\n'.format(b.name, len(b.unique())))\n",
    "    sym_diff=set(a)^set(b)\n",
    "    print('{} elements in {} or {} but not both: \\n {}'.format(len(sym_diff), a.name, b.name, sym_diff))\n",
    "    check=a==b\n",
    "    check_false=len(check[check==False])\n",
    "    print('{pct:.{digits}f}% of elements are the same'.format(pct=100-check_false/len(check), digits=2))"
   ]
  },
  {
   "cell_type": "code",
   "execution_count": 111,
   "metadata": {
    "collapsed": false
   },
   "outputs": [
    {
     "name": "stdout",
     "output_type": "stream",
     "text": [
      "extraction_type has 18 unique values \n",
      "\n",
      "extraction_type_group has 13 unique values \n",
      "\n",
      "13 elements in extraction_type or extraction_type_group but not both: \n",
      " {'walimi', 'wind-powered', 'rope pump', 'other motorpump', 'other - swn 81', 'ksb', 'windmill', 'other - rope pump', 'other - play pump', 'cemo', 'climax', 'other - mkulima/shinyanga', 'other handpump'}\n",
      "99.96% of elements are the same\n"
     ]
    }
   ],
   "source": [
    "check_same(extraction_type,extraction_type_group)"
   ]
  },
  {
   "cell_type": "code",
   "execution_count": 112,
   "metadata": {
    "collapsed": false
   },
   "outputs": [
    {
     "name": "stdout",
     "output_type": "stream",
     "text": [
      "quantity has 5 unique values \n",
      "\n",
      "quantity_group has 5 unique values \n",
      "\n",
      "0 elements in quantity or quantity_group but not both: \n",
      " set()\n",
      "100.00% of elements are the same\n"
     ]
    }
   ],
   "source": [
    "check_same(quantity, quantity_group)"
   ]
  },
  {
   "cell_type": "code",
   "execution_count": 113,
   "metadata": {
    "collapsed": false
   },
   "outputs": [
    {
     "name": "stdout",
     "output_type": "stream",
     "text": [
      "source has 10 unique values \n",
      "\n",
      "source_type has 7 unique values \n",
      "\n",
      "7 elements in source or source_type but not both: \n",
      " {'river/lake', 'river', 'machine dbh', 'unknown', 'lake', 'hand dtw', 'borehole'}\n",
      "99.62% of elements are the same\n"
     ]
    }
   ],
   "source": [
    "check_same(source, source_type)"
   ]
  },
  {
   "cell_type": "code",
   "execution_count": 114,
   "metadata": {
    "collapsed": false
   },
   "outputs": [
    {
     "name": "stdout",
     "output_type": "stream",
     "text": [
      "waterpoint_type has 7 unique values \n",
      "\n",
      "waterpoint_type_group has 6 unique values \n",
      "\n",
      "1 elements in waterpoint_type or waterpoint_type_group but not both: \n",
      " {'communal standpipe multiple'}\n",
      "99.90% of elements are the same\n"
     ]
    }
   ],
   "source": [
    "check_same(wpt, wptg)"
   ]
  },
  {
   "cell_type": "code",
   "execution_count": 86,
   "metadata": {
    "collapsed": false
   },
   "outputs": [
    {
     "data": {
      "text/plain": [
       "array(['GeoData Consultants Ltd'], dtype=object)"
      ]
     },
     "execution_count": 86,
     "metadata": {},
     "output_type": "execute_result"
    }
   ],
   "source": [
    "train_values['recorded_by'].unique()"
   ]
  },
  {
   "cell_type": "code",
   "execution_count": 96,
   "metadata": {
    "collapsed": true
   },
   "outputs": [
    {
     "data": {
      "text/plain": [
       "[59400,\n",
       " 98,\n",
       " 356,\n",
       " 1898,\n",
       " 2428,\n",
       " 2146,\n",
       " 57516,\n",
       " 57517,\n",
       " 37400,\n",
       " 65,\n",
       " 9,\n",
       " 19288,\n",
       " 21,\n",
       " 27,\n",
       " 20,\n",
       " 125,\n",
       " 2092,\n",
       " 1049,\n",
       " 3,\n",
       " 1,\n",
       " 13,\n",
       " 2697,\n",
       " 3,\n",
       " 55,\n",
       " 18,\n",
       " 13,\n",
       " 7,\n",
       " 12,\n",
       " 5,\n",
       " 7,\n",
       " 7,\n",
       " 8,\n",
       " 6,\n",
       " 5,\n",
       " 5,\n",
       " 10,\n",
       " 7,\n",
       " 3,\n",
       " 7,\n",
       " 6]"
      ]
     },
     "execution_count": 96,
     "metadata": {},
     "output_type": "execute_result"
    }
   ],
   "source": [
    "# Number of unique values for each column [.unique vs .value_counts]\n",
    "len_uniques = [len(train_values[i].unique()) for i in train_values.columns]\n",
    "pd.DataFr"
   ]
  },
  {
   "cell_type": "code",
   "execution_count": null,
   "metadata": {
    "collapsed": true
   },
   "outputs": [],
   "source": []
  }
 ],
 "metadata": {
  "anaconda-cloud": {},
  "kernelspec": {
   "display_name": "Python [conda env:py35]",
   "language": "python",
   "name": "conda-env-py35-py"
  },
  "language_info": {
   "codemirror_mode": {
    "name": "ipython",
    "version": 3
   },
   "file_extension": ".py",
   "mimetype": "text/x-python",
   "name": "python",
   "nbconvert_exporter": "python",
   "pygments_lexer": "ipython3",
   "version": "3.5.2"
  }
 },
 "nbformat": 4,
 "nbformat_minor": 1
}
