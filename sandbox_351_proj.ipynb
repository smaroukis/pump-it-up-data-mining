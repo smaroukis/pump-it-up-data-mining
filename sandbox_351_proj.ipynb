{
 "cells": [
  {
   "cell_type": "code",
   "execution_count": 148,
   "metadata": {
    "collapsed": false
   },
   "outputs": [],
   "source": [
    "import pandas as pd\n",
    "import numpy as np\n",
    "import string\n",
    "import matplotlib.pyplot as plt\n",
    "import matplotlib\n",
    "matplotlib.style.use('ggplot')"
   ]
  },
  {
   "cell_type": "code",
   "execution_count": 18,
   "metadata": {
    "collapsed": true
   },
   "outputs": [],
   "source": [
    "# For converting excel columns to numerical index (from 0)\n",
    "def col2num(col):\n",
    "    num=0\n",
    "    for c in col:\n",
    "        if c in string.ascii_letters:\n",
    "            num = num * 26 + (ord(c.upper()) - ord('A'))\n",
    "    return num"
   ]
  },
  {
   "cell_type": "code",
   "execution_count": 119,
   "metadata": {
    "collapsed": false
   },
   "outputs": [],
   "source": [
    "test_values=pd.read_csv('data/Test Set Values.csv')\n",
    "train_values=pd.read_csv('data/Training Set Values.csv')\n",
    "train_labels=pd.read_csv('data/Training Set Labels.csv')"
   ]
  },
  {
   "cell_type": "code",
   "execution_count": 132,
   "metadata": {
    "collapsed": true
   },
   "outputs": [
    {
     "data": {
      "text/plain": [
       "0                        id\n",
       "1              status_group\n",
       "2                amount_tsh\n",
       "3             date_recorded\n",
       "4                    funder\n",
       "5                gps_height\n",
       "6                 installer\n",
       "7                 longitude\n",
       "8                  latitude\n",
       "9                  wpt_name\n",
       "10              num_private\n",
       "11                    basin\n",
       "12               subvillage\n",
       "13                   region\n",
       "14              region_code\n",
       "15            district_code\n",
       "16                      lga\n",
       "17                     ward\n",
       "18               population\n",
       "19           public_meeting\n",
       "20              recorded_by\n",
       "21        scheme_management\n",
       "22              scheme_name\n",
       "23                   permit\n",
       "24        construction_year\n",
       "25          extraction_type\n",
       "26    extraction_type_group\n",
       "27    extraction_type_class\n",
       "28               management\n",
       "29         management_group\n",
       "30                  payment\n",
       "31             payment_type\n",
       "32            water_quality\n",
       "33            quality_group\n",
       "34                 quantity\n",
       "35           quantity_group\n",
       "36                   source\n",
       "37              source_type\n",
       "38             source_class\n",
       "39          waterpoint_type\n",
       "40    waterpoint_type_group\n",
       "dtype: object"
      ]
     },
     "execution_count": 132,
     "metadata": {},
     "output_type": "execute_result"
    }
   ],
   "source": [
    "# Merge training values w labels \n",
    "train=pd.merge(train_labels, train_values, how='inner', on='id')\n",
    "pd.Series(train.columns)"
   ]
  },
  {
   "cell_type": "code",
   "execution_count": 150,
   "metadata": {
    "collapsed": false,
    "scrolled": true
   },
   "outputs": [
    {
     "data": {
      "image/png": "[encoded data removed]",
      "text/plain": [
       "<matplotlib.figure.Figure at 0x118817b70>"
      ]
     },
     "metadata": {},
     "output_type": "display_data"
    }
   ],
   "source": [
    "train['status_group'].value_counts().plot(kind=\"bar\")\n",
    "plt.show()"
   ]
  },
  {
   "cell_type": "markdown",
   "metadata": {},
   "source": [
    "### Frequency Tables"
   ]
  },
  {
   "cell_type": "code",
   "execution_count": 189,
   "metadata": {
    "collapsed": true
   },
   "outputs": [],
   "source": [
    "# Frequency table divided by rows\n",
    "def freq_tab(a,b):\n",
    "    ft=pd.crosstab(index=a, columns=b, margins=True)\n",
    "    return ft/ft.ix['All']"
   ]
  },
  {
   "cell_type": "code",
   "execution_count": 144,
   "metadata": {
    "collapsed": false
   },
   "outputs": [
    {
     "data": {
      "text/html": [
       "<div>\n",
       "<table border=\"1\" class=\"dataframe\">\n",
       "  <thead>\n",
       "    <tr style=\"text-align: right;\">\n",
       "      <th>permit</th>\n",
       "      <th>False</th>\n",
       "      <th>True</th>\n",
       "      <th>All</th>\n",
       "    </tr>\n",
       "    <tr>\n",
       "      <th>status_group</th>\n",
       "      <th></th>\n",
       "      <th></th>\n",
       "      <th></th>\n",
       "    </tr>\n",
       "  </thead>\n",
       "  <tbody>\n",
       "    <tr>\n",
       "      <th>functional</th>\n",
       "      <td>0.517094</td>\n",
       "      <td>0.554437</td>\n",
       "      <td>0.542844</td>\n",
       "    </tr>\n",
       "    <tr>\n",
       "      <th>functional needs repair</th>\n",
       "      <td>0.075463</td>\n",
       "      <td>0.069417</td>\n",
       "      <td>0.071294</td>\n",
       "    </tr>\n",
       "    <tr>\n",
       "      <th>non functional</th>\n",
       "      <td>0.407443</td>\n",
       "      <td>0.376145</td>\n",
       "      <td>0.385862</td>\n",
       "    </tr>\n",
       "    <tr>\n",
       "      <th>All</th>\n",
       "      <td>1.000000</td>\n",
       "      <td>1.000000</td>\n",
       "      <td>1.000000</td>\n",
       "    </tr>\n",
       "  </tbody>\n",
       "</table>\n",
       "</div>"
      ],
      "text/plain": [
       "permit                      False      True       All\n",
       "status_group                                         \n",
       "functional               0.517094  0.554437  0.542844\n",
       "functional needs repair  0.075463  0.069417  0.071294\n",
       "non functional           0.407443  0.376145  0.385862\n",
       "All                      1.000000  1.000000  1.000000"
      ]
     },
     "execution_count": 144,
     "metadata": {},
     "output_type": "execute_result"
    }
   ],
   "source": [
    "# Frequency Table Example: Permit\n",
    "permit_ct=pd.crosstab(index=train[\"status_group\"], columns=train[\"permit\"], margins=True)\n",
    "permit_ct/permit_ct.ix['All']"
   ]
  },
  {
   "cell_type": "code",
   "execution_count": 155,
   "metadata": {
    "collapsed": false
   },
   "outputs": [
    {
     "data": {
      "text/html": [
       "<div>\n",
       "<table border=\"1\" class=\"dataframe\">\n",
       "  <thead>\n",
       "    <tr style=\"text-align: right;\">\n",
       "      <th>status_group</th>\n",
       "      <th>functional</th>\n",
       "      <th>functional needs repair</th>\n",
       "      <th>non functional</th>\n",
       "      <th>All</th>\n",
       "    </tr>\n",
       "    <tr>\n",
       "      <th>quantity</th>\n",
       "      <th></th>\n",
       "      <th></th>\n",
       "      <th></th>\n",
       "      <th></th>\n",
       "    </tr>\n",
       "  </thead>\n",
       "  <tbody>\n",
       "    <tr>\n",
       "      <th>dry</th>\n",
       "      <td>0.025136</td>\n",
       "      <td>0.005924</td>\n",
       "      <td>0.968940</td>\n",
       "      <td>1.0</td>\n",
       "    </tr>\n",
       "    <tr>\n",
       "      <th>enough</th>\n",
       "      <td>0.652323</td>\n",
       "      <td>0.072320</td>\n",
       "      <td>0.275357</td>\n",
       "      <td>1.0</td>\n",
       "    </tr>\n",
       "    <tr>\n",
       "      <th>insufficient</th>\n",
       "      <td>0.523234</td>\n",
       "      <td>0.095842</td>\n",
       "      <td>0.380924</td>\n",
       "      <td>1.0</td>\n",
       "    </tr>\n",
       "    <tr>\n",
       "      <th>seasonal</th>\n",
       "      <td>0.574074</td>\n",
       "      <td>0.102716</td>\n",
       "      <td>0.323210</td>\n",
       "      <td>1.0</td>\n",
       "    </tr>\n",
       "    <tr>\n",
       "      <th>unknown</th>\n",
       "      <td>0.269962</td>\n",
       "      <td>0.017744</td>\n",
       "      <td>0.712294</td>\n",
       "      <td>1.0</td>\n",
       "    </tr>\n",
       "    <tr>\n",
       "      <th>All</th>\n",
       "      <td>0.543081</td>\n",
       "      <td>0.072677</td>\n",
       "      <td>0.384242</td>\n",
       "      <td>1.0</td>\n",
       "    </tr>\n",
       "  </tbody>\n",
       "</table>\n",
       "</div>"
      ],
      "text/plain": [
       "status_group  functional  functional needs repair  non functional  All\n",
       "quantity                                                              \n",
       "dry             0.025136                 0.005924        0.968940  1.0\n",
       "enough          0.652323                 0.072320        0.275357  1.0\n",
       "insufficient    0.523234                 0.095842        0.380924  1.0\n",
       "seasonal        0.574074                 0.102716        0.323210  1.0\n",
       "unknown         0.269962                 0.017744        0.712294  1.0\n",
       "All             0.543081                 0.072677        0.384242  1.0"
      ]
     },
     "execution_count": 155,
     "metadata": {},
     "output_type": "execute_result"
    }
   ],
   "source": [
    "# Frequency Table for Quantity vs Status Group\n",
    "quant_ct = pd.crosstab(index=train[\"quantity\"], columns=train[\"status_group\"], margins=True)\n",
    "# To divide by row totals use df.div(rowtotal, axis=0)\n",
    "quant_ct.div(quant_ct[\"All\"], axis=0)"
   ]
  },
  {
   "cell_type": "code",
   "execution_count": null,
   "metadata": {
    "collapsed": true
   },
   "outputs": [],
   "source": []
  },
  {
   "cell_type": "code",
   "execution_count": 110,
   "metadata": {
    "collapsed": false
   },
   "outputs": [],
   "source": [
    "# Getting columns\n",
    "extraction_type=train_values['extraction_type']\n",
    "extraction_type_group=train_values['extraction_type_group']\n",
    "quantity=train_values['quantity']\n",
    "quantity_group=train_values['quantity_group']\n",
    "source=train_values['source']\n",
    "source_class=train_values['source_class']\n",
    "source_type=train_values['source_type']\n",
    "wpt=train_values['waterpoint_type']\n",
    "wptg=train_values['waterpoint_type_group']"
   ]
  },
  {
   "cell_type": "markdown",
   "metadata": {},
   "source": [
    "### Checking Unique Values"
   ]
  },
  {
   "cell_type": "code",
   "execution_count": 170,
   "metadata": {
    "collapsed": false
   },
   "outputs": [],
   "source": [
    "# Make a function to check unique values of columns:\n",
    "def check_same(a, b):\n",
    "    print('{} has {} unique values \\n'.format(a.name, len(a.unique())))\n",
    "    print('{} has {} unique values \\n'.format(b.name, len(b.unique())))\n",
    "    sym_diff=set(a)^set(b)\n",
    "    print('{} elements in {} or {} but not both: \\n {}'.format(len(sym_diff), a.name, b.name, sym_diff))\n",
    "    check=a==b\n",
    "    check_false=len(check[check==False])\n",
    "    print('{pct:.{digits}f}% of elements are the same'.format(pct=100*(1-check_false/len(check)), digits=2))"
   ]
  },
  {
   "cell_type": "code",
   "execution_count": null,
   "metadata": {
    "collapsed": true
   },
   "outputs": [],
   "source": [
    "# check the check equals"
   ]
  },
  {
   "cell_type": "markdown",
   "metadata": {},
   "source": [
    "##### Extraction Type, Group, Class"
   ]
  },
  {
   "cell_type": "code",
   "execution_count": 171,
   "metadata": {
    "collapsed": false
   },
   "outputs": [
    {
     "name": "stdout",
     "output_type": "stream",
     "text": [
      "extraction_type has 18 unique values \n",
      "\n",
      "extraction_type_group has 13 unique values \n",
      "\n",
      "13 elements in extraction_type or extraction_type_group but not both: \n",
      " {'walimi', 'wind-powered', 'rope pump', 'other motorpump', 'other - swn 81', 'ksb', 'windmill', 'other - rope pump', 'other - play pump', 'cemo', 'climax', 'other - mkulima/shinyanga', 'other handpump'}\n",
      "95.84% of elements are the same\n"
     ]
    }
   ],
   "source": [
    "check_same(extraction_type,extraction_type_group)"
   ]
  },
  {
   "cell_type": "code",
   "execution_count": 172,
   "metadata": {
    "collapsed": false
   },
   "outputs": [
    {
     "name": "stdout",
     "output_type": "stream",
     "text": [
      "extraction_type has 18 unique values \n",
      "\n",
      "extraction_type_class has 7 unique values \n",
      "\n",
      "19 elements in extraction_type or extraction_type_class but not both: \n",
      " {'afridev', 'swn 80', 'ksb', 'windmill', 'other - rope pump', 'other - play pump', 'cemo', 'climax', 'motorpump', 'handpump', 'wind-powered', 'india mark ii', 'nira/tanira', 'walimi', 'rope pump', 'other - swn 81', 'other - mkulima/shinyanga', 'india mark iii', 'mono'}\n",
      "63.93% of elements are the same\n"
     ]
    }
   ],
   "source": [
    "check_same(train[\"extraction_type\"], train[\"extraction_type_class\"])"
   ]
  },
  {
   "cell_type": "code",
   "execution_count": 173,
   "metadata": {
    "collapsed": false
   },
   "outputs": [
    {
     "name": "stdout",
     "output_type": "stream",
     "text": [
      "extraction_type_class has 7 unique values \n",
      "\n",
      "extraction_type_group has 13 unique values \n",
      "\n",
      "10 elements in extraction_type_class or extraction_type_group but not both: \n",
      " {'afridev', 'other motorpump', 'swn 80', 'mono', 'motorpump', 'handpump', 'other handpump', 'india mark iii', 'india mark ii', 'nira/tanira'}\n",
      "67.27% of elements are the same\n"
     ]
    }
   ],
   "source": [
    "check_same(train[\"extraction_type_class\"], train[\"extraction_type_group\"])"
   ]
  },
  {
   "cell_type": "code",
   "execution_count": 192,
   "metadata": {
    "collapsed": false
   },
   "outputs": [
    {
     "data": {
      "text/html": [
       "<div>\n",
       "<table border=\"1\" class=\"dataframe\">\n",
       "  <thead>\n",
       "    <tr style=\"text-align: right;\">\n",
       "      <th>extraction_type_group</th>\n",
       "      <th>afridev</th>\n",
       "      <th>gravity</th>\n",
       "      <th>india mark ii</th>\n",
       "      <th>india mark iii</th>\n",
       "      <th>mono</th>\n",
       "      <th>nira/tanira</th>\n",
       "      <th>other</th>\n",
       "      <th>other handpump</th>\n",
       "      <th>other motorpump</th>\n",
       "      <th>rope pump</th>\n",
       "      <th>submersible</th>\n",
       "      <th>swn 80</th>\n",
       "      <th>wind-powered</th>\n",
       "      <th>All</th>\n",
       "    </tr>\n",
       "    <tr>\n",
       "      <th>extraction_type_class</th>\n",
       "      <th></th>\n",
       "      <th></th>\n",
       "      <th></th>\n",
       "      <th></th>\n",
       "      <th></th>\n",
       "      <th></th>\n",
       "      <th></th>\n",
       "      <th></th>\n",
       "      <th></th>\n",
       "      <th></th>\n",
       "      <th></th>\n",
       "      <th></th>\n",
       "      <th></th>\n",
       "      <th></th>\n",
       "    </tr>\n",
       "  </thead>\n",
       "  <tbody>\n",
       "    <tr>\n",
       "      <th>gravity</th>\n",
       "      <td>0.0</td>\n",
       "      <td>1.0</td>\n",
       "      <td>0.0</td>\n",
       "      <td>0.0</td>\n",
       "      <td>0.0</td>\n",
       "      <td>0.0</td>\n",
       "      <td>0.0</td>\n",
       "      <td>0.0</td>\n",
       "      <td>0.0</td>\n",
       "      <td>0.0</td>\n",
       "      <td>0.0</td>\n",
       "      <td>0.0</td>\n",
       "      <td>0.0</td>\n",
       "      <td>0.450842</td>\n",
       "    </tr>\n",
       "    <tr>\n",
       "      <th>handpump</th>\n",
       "      <td>1.0</td>\n",
       "      <td>0.0</td>\n",
       "      <td>1.0</td>\n",
       "      <td>1.0</td>\n",
       "      <td>0.0</td>\n",
       "      <td>1.0</td>\n",
       "      <td>0.0</td>\n",
       "      <td>1.0</td>\n",
       "      <td>0.0</td>\n",
       "      <td>0.0</td>\n",
       "      <td>0.0</td>\n",
       "      <td>1.0</td>\n",
       "      <td>0.0</td>\n",
       "      <td>0.277037</td>\n",
       "    </tr>\n",
       "    <tr>\n",
       "      <th>motorpump</th>\n",
       "      <td>0.0</td>\n",
       "      <td>0.0</td>\n",
       "      <td>0.0</td>\n",
       "      <td>0.0</td>\n",
       "      <td>1.0</td>\n",
       "      <td>0.0</td>\n",
       "      <td>0.0</td>\n",
       "      <td>0.0</td>\n",
       "      <td>1.0</td>\n",
       "      <td>0.0</td>\n",
       "      <td>0.0</td>\n",
       "      <td>0.0</td>\n",
       "      <td>0.0</td>\n",
       "      <td>0.050286</td>\n",
       "    </tr>\n",
       "    <tr>\n",
       "      <th>other</th>\n",
       "      <td>0.0</td>\n",
       "      <td>0.0</td>\n",
       "      <td>0.0</td>\n",
       "      <td>0.0</td>\n",
       "      <td>0.0</td>\n",
       "      <td>0.0</td>\n",
       "      <td>1.0</td>\n",
       "      <td>0.0</td>\n",
       "      <td>0.0</td>\n",
       "      <td>0.0</td>\n",
       "      <td>0.0</td>\n",
       "      <td>0.0</td>\n",
       "      <td>0.0</td>\n",
       "      <td>0.108249</td>\n",
       "    </tr>\n",
       "    <tr>\n",
       "      <th>rope pump</th>\n",
       "      <td>0.0</td>\n",
       "      <td>0.0</td>\n",
       "      <td>0.0</td>\n",
       "      <td>0.0</td>\n",
       "      <td>0.0</td>\n",
       "      <td>0.0</td>\n",
       "      <td>0.0</td>\n",
       "      <td>0.0</td>\n",
       "      <td>0.0</td>\n",
       "      <td>1.0</td>\n",
       "      <td>0.0</td>\n",
       "      <td>0.0</td>\n",
       "      <td>0.0</td>\n",
       "      <td>0.007593</td>\n",
       "    </tr>\n",
       "    <tr>\n",
       "      <th>submersible</th>\n",
       "      <td>0.0</td>\n",
       "      <td>0.0</td>\n",
       "      <td>0.0</td>\n",
       "      <td>0.0</td>\n",
       "      <td>0.0</td>\n",
       "      <td>0.0</td>\n",
       "      <td>0.0</td>\n",
       "      <td>0.0</td>\n",
       "      <td>0.0</td>\n",
       "      <td>0.0</td>\n",
       "      <td>1.0</td>\n",
       "      <td>0.0</td>\n",
       "      <td>0.0</td>\n",
       "      <td>0.104024</td>\n",
       "    </tr>\n",
       "    <tr>\n",
       "      <th>wind-powered</th>\n",
       "      <td>0.0</td>\n",
       "      <td>0.0</td>\n",
       "      <td>0.0</td>\n",
       "      <td>0.0</td>\n",
       "      <td>0.0</td>\n",
       "      <td>0.0</td>\n",
       "      <td>0.0</td>\n",
       "      <td>0.0</td>\n",
       "      <td>0.0</td>\n",
       "      <td>0.0</td>\n",
       "      <td>0.0</td>\n",
       "      <td>0.0</td>\n",
       "      <td>1.0</td>\n",
       "      <td>0.001970</td>\n",
       "    </tr>\n",
       "    <tr>\n",
       "      <th>All</th>\n",
       "      <td>1.0</td>\n",
       "      <td>1.0</td>\n",
       "      <td>1.0</td>\n",
       "      <td>1.0</td>\n",
       "      <td>1.0</td>\n",
       "      <td>1.0</td>\n",
       "      <td>1.0</td>\n",
       "      <td>1.0</td>\n",
       "      <td>1.0</td>\n",
       "      <td>1.0</td>\n",
       "      <td>1.0</td>\n",
       "      <td>1.0</td>\n",
       "      <td>1.0</td>\n",
       "      <td>1.000000</td>\n",
       "    </tr>\n",
       "  </tbody>\n",
       "</table>\n",
       "</div>"
      ],
      "text/plain": [
       "extraction_type_group  afridev  gravity  india mark ii  india mark iii  mono  \\\n",
       "extraction_type_class                                                          \n",
       "gravity                    0.0      1.0            0.0             0.0   0.0   \n",
       "handpump                   1.0      0.0            1.0             1.0   0.0   \n",
       "motorpump                  0.0      0.0            0.0             0.0   1.0   \n",
       "other                      0.0      0.0            0.0             0.0   0.0   \n",
       "rope pump                  0.0      0.0            0.0             0.0   0.0   \n",
       "submersible                0.0      0.0            0.0             0.0   0.0   \n",
       "wind-powered               0.0      0.0            0.0             0.0   0.0   \n",
       "All                        1.0      1.0            1.0             1.0   1.0   \n",
       "\n",
       "extraction_type_group  nira/tanira  other  other handpump  other motorpump  \\\n",
       "extraction_type_class                                                        \n",
       "gravity                        0.0    0.0             0.0              0.0   \n",
       "handpump                       1.0    0.0             1.0              0.0   \n",
       "motorpump                      0.0    0.0             0.0              1.0   \n",
       "other                          0.0    1.0             0.0              0.0   \n",
       "rope pump                      0.0    0.0             0.0              0.0   \n",
       "submersible                    0.0    0.0             0.0              0.0   \n",
       "wind-powered                   0.0    0.0             0.0              0.0   \n",
       "All                            1.0    1.0             1.0              1.0   \n",
       "\n",
       "extraction_type_group  rope pump  submersible  swn 80  wind-powered       All  \n",
       "extraction_type_class                                                          \n",
       "gravity                      0.0          0.0     0.0           0.0  0.450842  \n",
       "handpump                     0.0          0.0     1.0           0.0  0.277037  \n",
       "motorpump                    0.0          0.0     0.0           0.0  0.050286  \n",
       "other                        0.0          0.0     0.0           0.0  0.108249  \n",
       "rope pump                    1.0          0.0     0.0           0.0  0.007593  \n",
       "submersible                  0.0          1.0     0.0           0.0  0.104024  \n",
       "wind-powered                 0.0          0.0     0.0           1.0  0.001970  \n",
       "All                          1.0          1.0     1.0           1.0  1.000000  "
      ]
     },
     "execution_count": 192,
     "metadata": {},
     "output_type": "execute_result"
    }
   ],
   "source": [
    "freq_tab(train[\"extraction_type_class\"], train[\"extraction_type_group\"])"
   ]
  },
  {
   "cell_type": "markdown",
   "metadata": {},
   "source": [
    "##### Quantity, Quantity Group"
   ]
  },
  {
   "cell_type": "code",
   "execution_count": 174,
   "metadata": {
    "collapsed": false
   },
   "outputs": [
    {
     "name": "stdout",
     "output_type": "stream",
     "text": [
      "quantity has 5 unique values \n",
      "\n",
      "quantity_group has 5 unique values \n",
      "\n",
      "0 elements in quantity or quantity_group but not both: \n",
      " set()\n",
      "100.00% of elements are the same\n"
     ]
    }
   ],
   "source": [
    "check_same(quantity, quantity_group)"
   ]
  },
  {
   "cell_type": "markdown",
   "metadata": {},
   "source": [
    "##### Source, Source Type, Source Class"
   ]
  },
  {
   "cell_type": "code",
   "execution_count": 175,
   "metadata": {
    "collapsed": false
   },
   "outputs": [
    {
     "name": "stdout",
     "output_type": "stream",
     "text": [
      "source has 10 unique values \n",
      "\n",
      "source_type has 7 unique values \n",
      "\n",
      "7 elements in source or source_type but not both: \n",
      " {'river/lake', 'river', 'machine dbh', 'unknown', 'lake', 'hand dtw', 'borehole'}\n",
      "62.30% of elements are the same\n"
     ]
    }
   ],
   "source": [
    "check_same(source, source_type)"
   ]
  },
  {
   "cell_type": "code",
   "execution_count": 176,
   "metadata": {
    "collapsed": false
   },
   "outputs": [
    {
     "name": "stdout",
     "output_type": "stream",
     "text": [
      "source has 10 unique values \n",
      "\n",
      "source_class has 3 unique values \n",
      "\n",
      "11 elements in source or source_class but not both: \n",
      " {'surface', 'hand dtw', 'river', 'groundwater', 'shallow well', 'lake', 'machine dbh', 'dam', 'rainwater harvesting', 'spring', 'other'}\n",
      "0.11% of elements are the same\n"
     ]
    }
   ],
   "source": [
    "check_same(source, train[\"source_class\"])"
   ]
  },
  {
   "cell_type": "code",
   "execution_count": 177,
   "metadata": {
    "collapsed": false
   },
   "outputs": [
    {
     "name": "stdout",
     "output_type": "stream",
     "text": [
      "source_class has 3 unique values \n",
      "\n",
      "source_type has 7 unique values \n",
      "\n",
      "10 elements in source_class or source_type but not both: \n",
      " {'borehole', 'groundwater', 'shallow well', 'surface', 'dam', 'spring', 'unknown', 'rainwater harvesting', 'river/lake', 'other'}\n",
      "0.00% of elements are the same\n"
     ]
    }
   ],
   "source": [
    "check_same(train[\"source_class\"], train[\"source_type\"])"
   ]
  },
  {
   "cell_type": "code",
   "execution_count": 188,
   "metadata": {
    "collapsed": false
   },
   "outputs": [
    {
     "data": {
      "text/html": [
       "<div>\n",
       "<table border=\"1\" class=\"dataframe\">\n",
       "  <thead>\n",
       "    <tr style=\"text-align: right;\">\n",
       "      <th>source_type</th>\n",
       "      <th>borehole</th>\n",
       "      <th>dam</th>\n",
       "      <th>other</th>\n",
       "      <th>rainwater harvesting</th>\n",
       "      <th>river/lake</th>\n",
       "      <th>shallow well</th>\n",
       "      <th>spring</th>\n",
       "      <th>All</th>\n",
       "    </tr>\n",
       "    <tr>\n",
       "      <th>source</th>\n",
       "      <th></th>\n",
       "      <th></th>\n",
       "      <th></th>\n",
       "      <th></th>\n",
       "      <th></th>\n",
       "      <th></th>\n",
       "      <th></th>\n",
       "      <th></th>\n",
       "    </tr>\n",
       "  </thead>\n",
       "  <tbody>\n",
       "    <tr>\n",
       "      <th>dam</th>\n",
       "      <td>0.0</td>\n",
       "      <td>1.0</td>\n",
       "      <td>0.0</td>\n",
       "      <td>0.0</td>\n",
       "      <td>0.0</td>\n",
       "      <td>0.0</td>\n",
       "      <td>0.0</td>\n",
       "      <td>1.0</td>\n",
       "    </tr>\n",
       "    <tr>\n",
       "      <th>hand dtw</th>\n",
       "      <td>1.0</td>\n",
       "      <td>0.0</td>\n",
       "      <td>0.0</td>\n",
       "      <td>0.0</td>\n",
       "      <td>0.0</td>\n",
       "      <td>0.0</td>\n",
       "      <td>0.0</td>\n",
       "      <td>1.0</td>\n",
       "    </tr>\n",
       "    <tr>\n",
       "      <th>lake</th>\n",
       "      <td>0.0</td>\n",
       "      <td>0.0</td>\n",
       "      <td>0.0</td>\n",
       "      <td>0.0</td>\n",
       "      <td>1.0</td>\n",
       "      <td>0.0</td>\n",
       "      <td>0.0</td>\n",
       "      <td>1.0</td>\n",
       "    </tr>\n",
       "    <tr>\n",
       "      <th>machine dbh</th>\n",
       "      <td>1.0</td>\n",
       "      <td>0.0</td>\n",
       "      <td>0.0</td>\n",
       "      <td>0.0</td>\n",
       "      <td>0.0</td>\n",
       "      <td>0.0</td>\n",
       "      <td>0.0</td>\n",
       "      <td>1.0</td>\n",
       "    </tr>\n",
       "    <tr>\n",
       "      <th>other</th>\n",
       "      <td>0.0</td>\n",
       "      <td>0.0</td>\n",
       "      <td>1.0</td>\n",
       "      <td>0.0</td>\n",
       "      <td>0.0</td>\n",
       "      <td>0.0</td>\n",
       "      <td>0.0</td>\n",
       "      <td>1.0</td>\n",
       "    </tr>\n",
       "    <tr>\n",
       "      <th>rainwater harvesting</th>\n",
       "      <td>0.0</td>\n",
       "      <td>0.0</td>\n",
       "      <td>0.0</td>\n",
       "      <td>1.0</td>\n",
       "      <td>0.0</td>\n",
       "      <td>0.0</td>\n",
       "      <td>0.0</td>\n",
       "      <td>1.0</td>\n",
       "    </tr>\n",
       "    <tr>\n",
       "      <th>river</th>\n",
       "      <td>0.0</td>\n",
       "      <td>0.0</td>\n",
       "      <td>0.0</td>\n",
       "      <td>0.0</td>\n",
       "      <td>1.0</td>\n",
       "      <td>0.0</td>\n",
       "      <td>0.0</td>\n",
       "      <td>1.0</td>\n",
       "    </tr>\n",
       "    <tr>\n",
       "      <th>shallow well</th>\n",
       "      <td>0.0</td>\n",
       "      <td>0.0</td>\n",
       "      <td>0.0</td>\n",
       "      <td>0.0</td>\n",
       "      <td>0.0</td>\n",
       "      <td>1.0</td>\n",
       "      <td>0.0</td>\n",
       "      <td>1.0</td>\n",
       "    </tr>\n",
       "    <tr>\n",
       "      <th>spring</th>\n",
       "      <td>0.0</td>\n",
       "      <td>0.0</td>\n",
       "      <td>0.0</td>\n",
       "      <td>0.0</td>\n",
       "      <td>0.0</td>\n",
       "      <td>0.0</td>\n",
       "      <td>1.0</td>\n",
       "      <td>1.0</td>\n",
       "    </tr>\n",
       "    <tr>\n",
       "      <th>unknown</th>\n",
       "      <td>0.0</td>\n",
       "      <td>0.0</td>\n",
       "      <td>1.0</td>\n",
       "      <td>0.0</td>\n",
       "      <td>0.0</td>\n",
       "      <td>0.0</td>\n",
       "      <td>0.0</td>\n",
       "      <td>1.0</td>\n",
       "    </tr>\n",
       "    <tr>\n",
       "      <th>All</th>\n",
       "      <td>0.2</td>\n",
       "      <td>0.0</td>\n",
       "      <td>0.0</td>\n",
       "      <td>0.0</td>\n",
       "      <td>0.2</td>\n",
       "      <td>0.3</td>\n",
       "      <td>0.3</td>\n",
       "      <td>1.0</td>\n",
       "    </tr>\n",
       "  </tbody>\n",
       "</table>\n",
       "</div>"
      ],
      "text/plain": [
       "source_type           borehole  dam  other  rainwater harvesting  river/lake  \\\n",
       "source                                                                         \n",
       "dam                        0.0  1.0    0.0                   0.0         0.0   \n",
       "hand dtw                   1.0  0.0    0.0                   0.0         0.0   \n",
       "lake                       0.0  0.0    0.0                   0.0         1.0   \n",
       "machine dbh                1.0  0.0    0.0                   0.0         0.0   \n",
       "other                      0.0  0.0    1.0                   0.0         0.0   \n",
       "rainwater harvesting       0.0  0.0    0.0                   1.0         0.0   \n",
       "river                      0.0  0.0    0.0                   0.0         1.0   \n",
       "shallow well               0.0  0.0    0.0                   0.0         0.0   \n",
       "spring                     0.0  0.0    0.0                   0.0         0.0   \n",
       "unknown                    0.0  0.0    1.0                   0.0         0.0   \n",
       "All                        0.2  0.0    0.0                   0.0         0.2   \n",
       "\n",
       "source_type           shallow well  spring  All  \n",
       "source                                           \n",
       "dam                            0.0     0.0  1.0  \n",
       "hand dtw                       0.0     0.0  1.0  \n",
       "lake                           0.0     0.0  1.0  \n",
       "machine dbh                    0.0     0.0  1.0  \n",
       "other                          0.0     0.0  1.0  \n",
       "rainwater harvesting           0.0     0.0  1.0  \n",
       "river                          0.0     0.0  1.0  \n",
       "shallow well                   1.0     0.0  1.0  \n",
       "spring                         0.0     1.0  1.0  \n",
       "unknown                        0.0     0.0  1.0  \n",
       "All                            0.3     0.3  1.0  "
      ]
     },
     "execution_count": 188,
     "metadata": {},
     "output_type": "execute_result"
    }
   ],
   "source": [
    "# let's do a frequency table across source and source type\n",
    "source_ct = pd.crosstab(index=train[\"source\"], columns=train[\"source_type\"], margins=True)\n",
    "source_ct.div(source_ct[\"All\"], axis=0).round(1)"
   ]
  },
  {
   "cell_type": "markdown",
   "metadata": {},
   "source": [
    "##### Waterpoint Type, Waterpoint Type Group"
   ]
  },
  {
   "cell_type": "code",
   "execution_count": 178,
   "metadata": {
    "collapsed": false
   },
   "outputs": [
    {
     "name": "stdout",
     "output_type": "stream",
     "text": [
      "waterpoint_type has 7 unique values \n",
      "\n",
      "waterpoint_type_group has 6 unique values \n",
      "\n",
      "1 elements in waterpoint_type or waterpoint_type_group but not both: \n",
      " {'communal standpipe multiple'}\n",
      "89.73% of elements are the same\n"
     ]
    }
   ],
   "source": [
    "check_same(wpt, wptg)"
   ]
  },
  {
   "cell_type": "markdown",
   "metadata": {},
   "source": [
    "##### Payment, Payment Type"
   ]
  },
  {
   "cell_type": "code",
   "execution_count": 179,
   "metadata": {
    "collapsed": false
   },
   "outputs": [
    {
     "name": "stdout",
     "output_type": "stream",
     "text": [
      "payment has 7 unique values \n",
      "\n",
      "payment_type has 7 unique values \n",
      "\n",
      "8 elements in payment or payment_type but not both: \n",
      " {'per bucket', 'on failure', 'monthly', 'annually', 'pay annually', 'pay when scheme fails', 'pay per bucket', 'pay monthly'}\n",
      "58.18% of elements are the same\n"
     ]
    }
   ],
   "source": [
    "check_same(train[\"payment\"], train[\"payment_type\"])"
   ]
  },
  {
   "cell_type": "markdown",
   "metadata": {},
   "source": [
    "##### Region, Region Code"
   ]
  },
  {
   "cell_type": "code",
   "execution_count": 180,
   "metadata": {
    "collapsed": false
   },
   "outputs": [
    {
     "name": "stdout",
     "output_type": "stream",
     "text": [
      "region has 21 unique values \n",
      "\n",
      "region_code has 27 unique values \n",
      "\n",
      "48 elements in region or region_code but not both: \n",
      " {1, 2, 3, 4, 5, 6, 7, 8, 9, 10, 11, 12, 13, 14, 15, 16, 17, 18, 19, 20, 21, 24, 40, 'Singida', 'Shinyanga', 60, 'Mara', 'Ruvuma', 'Mwanza', 80, 'Tanga', 90, 'Pwani', 'Manyara', 'Tabora', 99, 'Lindi', 'Morogoro', 'Kagera', 'Arusha', 'Kilimanjaro', 'Rukwa', 'Dar es Salaam', 'Dodoma', 'Mtwara', 'Kigoma', 'Iringa', 'Mbeya'}\n",
      "0.00% of elements are the same\n"
     ]
    }
   ],
   "source": [
    "check_same(train[\"region\"], train[\"region_code\"])"
   ]
  },
  {
   "cell_type": "code",
   "execution_count": 118,
   "metadata": {
    "collapsed": false
   },
   "outputs": [
    {
     "data": {
      "text/html": [
       "<div>\n",
       "<table border=\"1\" class=\"dataframe\">\n",
       "  <thead>\n",
       "    <tr style=\"text-align: right;\">\n",
       "      <th></th>\n",
       "      <th>Unique Values</th>\n",
       "    </tr>\n",
       "  </thead>\n",
       "  <tbody>\n",
       "    <tr>\n",
       "      <th>id</th>\n",
       "      <td>59400</td>\n",
       "    </tr>\n",
       "    <tr>\n",
       "      <th>amount_tsh</th>\n",
       "      <td>98</td>\n",
       "    </tr>\n",
       "    <tr>\n",
       "      <th>date_recorded</th>\n",
       "      <td>356</td>\n",
       "    </tr>\n",
       "    <tr>\n",
       "      <th>funder</th>\n",
       "      <td>1898</td>\n",
       "    </tr>\n",
       "    <tr>\n",
       "      <th>gps_height</th>\n",
       "      <td>2428</td>\n",
       "    </tr>\n",
       "    <tr>\n",
       "      <th>installer</th>\n",
       "      <td>2146</td>\n",
       "    </tr>\n",
       "    <tr>\n",
       "      <th>longitude</th>\n",
       "      <td>57516</td>\n",
       "    </tr>\n",
       "    <tr>\n",
       "      <th>latitude</th>\n",
       "      <td>57517</td>\n",
       "    </tr>\n",
       "    <tr>\n",
       "      <th>wpt_name</th>\n",
       "      <td>37400</td>\n",
       "    </tr>\n",
       "    <tr>\n",
       "      <th>num_private</th>\n",
       "      <td>65</td>\n",
       "    </tr>\n",
       "    <tr>\n",
       "      <th>basin</th>\n",
       "      <td>9</td>\n",
       "    </tr>\n",
       "    <tr>\n",
       "      <th>subvillage</th>\n",
       "      <td>19288</td>\n",
       "    </tr>\n",
       "    <tr>\n",
       "      <th>region</th>\n",
       "      <td>21</td>\n",
       "    </tr>\n",
       "    <tr>\n",
       "      <th>region_code</th>\n",
       "      <td>27</td>\n",
       "    </tr>\n",
       "    <tr>\n",
       "      <th>district_code</th>\n",
       "      <td>20</td>\n",
       "    </tr>\n",
       "    <tr>\n",
       "      <th>lga</th>\n",
       "      <td>125</td>\n",
       "    </tr>\n",
       "    <tr>\n",
       "      <th>ward</th>\n",
       "      <td>2092</td>\n",
       "    </tr>\n",
       "    <tr>\n",
       "      <th>population</th>\n",
       "      <td>1049</td>\n",
       "    </tr>\n",
       "    <tr>\n",
       "      <th>public_meeting</th>\n",
       "      <td>3</td>\n",
       "    </tr>\n",
       "    <tr>\n",
       "      <th>recorded_by</th>\n",
       "      <td>1</td>\n",
       "    </tr>\n",
       "    <tr>\n",
       "      <th>scheme_management</th>\n",
       "      <td>13</td>\n",
       "    </tr>\n",
       "    <tr>\n",
       "      <th>scheme_name</th>\n",
       "      <td>2697</td>\n",
       "    </tr>\n",
       "    <tr>\n",
       "      <th>permit</th>\n",
       "      <td>3</td>\n",
       "    </tr>\n",
       "    <tr>\n",
       "      <th>construction_year</th>\n",
       "      <td>55</td>\n",
       "    </tr>\n",
       "    <tr>\n",
       "      <th>extraction_type</th>\n",
       "      <td>18</td>\n",
       "    </tr>\n",
       "    <tr>\n",
       "      <th>extraction_type_group</th>\n",
       "      <td>13</td>\n",
       "    </tr>\n",
       "    <tr>\n",
       "      <th>extraction_type_class</th>\n",
       "      <td>7</td>\n",
       "    </tr>\n",
       "    <tr>\n",
       "      <th>management</th>\n",
       "      <td>12</td>\n",
       "    </tr>\n",
       "    <tr>\n",
       "      <th>management_group</th>\n",
       "      <td>5</td>\n",
       "    </tr>\n",
       "    <tr>\n",
       "      <th>payment</th>\n",
       "      <td>7</td>\n",
       "    </tr>\n",
       "    <tr>\n",
       "      <th>payment_type</th>\n",
       "      <td>7</td>\n",
       "    </tr>\n",
       "    <tr>\n",
       "      <th>water_quality</th>\n",
       "      <td>8</td>\n",
       "    </tr>\n",
       "    <tr>\n",
       "      <th>quality_group</th>\n",
       "      <td>6</td>\n",
       "    </tr>\n",
       "    <tr>\n",
       "      <th>quantity</th>\n",
       "      <td>5</td>\n",
       "    </tr>\n",
       "    <tr>\n",
       "      <th>quantity_group</th>\n",
       "      <td>5</td>\n",
       "    </tr>\n",
       "    <tr>\n",
       "      <th>source</th>\n",
       "      <td>10</td>\n",
       "    </tr>\n",
       "    <tr>\n",
       "      <th>source_type</th>\n",
       "      <td>7</td>\n",
       "    </tr>\n",
       "    <tr>\n",
       "      <th>source_class</th>\n",
       "      <td>3</td>\n",
       "    </tr>\n",
       "    <tr>\n",
       "      <th>waterpoint_type</th>\n",
       "      <td>7</td>\n",
       "    </tr>\n",
       "    <tr>\n",
       "      <th>waterpoint_type_group</th>\n",
       "      <td>6</td>\n",
       "    </tr>\n",
       "  </tbody>\n",
       "</table>\n",
       "</div>"
      ],
      "text/plain": [
       "                       Unique Values\n",
       "id                             59400\n",
       "amount_tsh                        98\n",
       "date_recorded                    356\n",
       "funder                          1898\n",
       "gps_height                      2428\n",
       "installer                       2146\n",
       "longitude                      57516\n",
       "latitude                       57517\n",
       "wpt_name                       37400\n",
       "num_private                       65\n",
       "basin                              9\n",
       "subvillage                     19288\n",
       "region                            21\n",
       "region_code                       27\n",
       "district_code                     20\n",
       "lga                              125\n",
       "ward                            2092\n",
       "population                      1049\n",
       "public_meeting                     3\n",
       "recorded_by                        1\n",
       "scheme_management                 13\n",
       "scheme_name                     2697\n",
       "permit                             3\n",
       "construction_year                 55\n",
       "extraction_type                   18\n",
       "extraction_type_group             13\n",
       "extraction_type_class              7\n",
       "management                        12\n",
       "management_group                   5\n",
       "payment                            7\n",
       "payment_type                       7\n",
       "water_quality                      8\n",
       "quality_group                      6\n",
       "quantity                           5\n",
       "quantity_group                     5\n",
       "source                            10\n",
       "source_type                        7\n",
       "source_class                       3\n",
       "waterpoint_type                    7\n",
       "waterpoint_type_group              6"
      ]
     },
     "execution_count": 118,
     "metadata": {},
     "output_type": "execute_result"
    }
   ],
   "source": [
    "# Number of unique values for each column [.unique vs .value_counts]\n",
    "len_uniques = [len(train_values[i].unique()) for i in train_values.columns]\n",
    "pd.DataFrame(len_uniques, index=train_values.columns, columns=['Unique Values'])"
   ]
  },
  {
   "cell_type": "code",
   "execution_count": 157,
   "metadata": {
    "collapsed": false
   },
   "outputs": [
    {
     "data": {
      "text/plain": [
       "array(['Lake Nyasa', 'Lake Victoria', 'Pangani', 'Ruvuma / Southern Coast',\n",
       "       'Internal', 'Lake Tanganyika', 'Wami / Ruvu', 'Rufiji', 'Lake Rukwa'], dtype=object)"
      ]
     },
     "execution_count": 157,
     "metadata": {},
     "output_type": "execute_result"
    }
   ],
   "source": [
    "train[\"basin\"].unique()"
   ]
  },
  {
   "cell_type": "code",
   "execution_count": null,
   "metadata": {
    "collapsed": true
   },
   "outputs": [],
   "source": []
  }
 ],
 "metadata": {
  "anaconda-cloud": {},
  "kernelspec": {
   "display_name": "Python [conda env:py35]",
   "language": "python",
   "name": "conda-env-py35-py"
  },
  "language_info": {
   "codemirror_mode": {
    "name": "ipython",
    "version": 3
   },
   "file_extension": ".py",
   "mimetype": "text/x-python",
   "name": "python",
   "nbconvert_exporter": "python",
   "pygments_lexer": "ipython3",
   "version": "3.5.2"
  }
 },
 "nbformat": 4,
 "nbformat_minor": 1
}
