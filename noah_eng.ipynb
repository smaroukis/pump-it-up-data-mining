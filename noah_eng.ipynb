{
 "cells": [
  {
   "cell_type": "code",
   "execution_count": 4,
   "metadata": {
    "collapsed": true,
    "deletable": true,
    "editable": true
   },
   "outputs": [],
   "source": [
    "import pandas as pd\n",
    "import string\n"
   ]
  },
  {
   "cell_type": "code",
   "execution_count": 5,
   "metadata": {
    "collapsed": true,
    "deletable": true,
    "editable": true
   },
   "outputs": [],
   "source": [
    "# Function to delete columns from dataframe. Input matrix of strings as second parameter.\n",
    "def deleteColumns(train_values, catList = ['extraction_type_group','extraction_type_class','quantity_group','quality_group','recorded_by',\n",
    "              'num_private','payment_type','waterpoint_type_group','scheme_name','amount_tsh']):\n",
    "    for category in catList:\n",
    "        train_values = train_values.drop(category,1)\n",
    "    return train_values"
   ]
  },
  {
   "cell_type": "code",
   "execution_count": 6,
   "metadata": {
    "collapsed": true,
    "deletable": true,
    "editable": true
   },
   "outputs": [],
   "source": [
    "def avgConstrYear(train_values):\n",
    "    \n",
    "    constrMean = train_values[train_values['construction_year'] > 0]['construction_year'].mean()\n",
    "\n",
    "    train_values['construction_year'] = train_values['construction_year'].replace(np.nan,constrMean)\n",
    "    train_values['construction_year'] = train_values['construction_year'].replace(0,constrMean)\n",
    "    \n",
    "    return train_values"
   ]
  },
  {
   "cell_type": "code",
   "execution_count": 7,
   "metadata": {
    "collapsed": true,
    "deletable": true,
    "editable": true
   },
   "outputs": [],
   "source": [
    "def zeros_permit(train_values):\n",
    "\t\"\"\"Replace zeros in public_meeting column with 'Neutral'\"\"\"\n",
    "\ttrain_values['permit'] = train_values['permit'].replace(0, \"null\")\n",
    "\ttrain_values['permit'] = train_values['permit'].replace(np.nan, \"null\")\n",
    "\treturn train_values"
   ]
  },
  {
   "cell_type": "code",
   "execution_count": null,
   "metadata": {
    "collapsed": true,
    "deletable": true,
    "editable": true
   },
   "outputs": [],
   "source": []
  }
 ],
 "metadata": {
  "kernelspec": {
   "display_name": "Python 3",
   "language": "python",
   "name": "python3"
  },
  "language_info": {
   "codemirror_mode": {
    "name": "ipython",
    "version": 3
   },
   "file_extension": ".py",
   "mimetype": "text/x-python",
   "name": "python",
   "nbconvert_exporter": "python",
   "pygments_lexer": "ipython3",
   "version": "3.6.1"
  }
 },
 "nbformat": 4,
 "nbformat_minor": 2
}
